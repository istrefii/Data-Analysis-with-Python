{
  "nbformat": 4,
  "nbformat_minor": 0,
  "metadata": {
    "colab": {
      "provenance": []
    },
    "kernelspec": {
      "name": "python3",
      "display_name": "Python 3"
    },
    "language_info": {
      "name": "python"
    }
  },
  "cells": [
    {
      "cell_type": "markdown",
      "source": [
        "## RECAP:\n",
        "\n",
        "Chapter 1:\n",
        "workflow for testing proportions vs a hypotheszied value\n",
        "\n",
        "False negative/false positive errors\n",
        "\n",
        "\n",
        "Chapter 2:\n",
        "Testing differences in sample means between two groups using t-tests\n",
        "\n",
        "Extending this to more than two groups using ANOVA and pairwise t-tests\n",
        "\n",
        "\n",
        "CHAPTER 3: Tested for differences in proportions between two groups using proportion tests.\n",
        "\n",
        "We then extended it to more than two groups with chi-square independence tests, and returned to the one sample case with chi-square goodness of fit tests.\n",
        "\n",
        "\n",
        "Chapter 4: we learned about the assumptions made by parametric hypothesis tests\n",
        "\n",
        "and saw how non-parametric tests can be used when those assumptions aren't met."
      ],
      "metadata": {
        "id": "y0Sz1hGYqSjY"
      }
    },
    {
      "cell_type": "markdown",
      "source": [
        "# Course Description\n",
        "Hypothesis testing lets you answer questions about your datasets in a statistically rigorous way. In this course, you'll grow your Python analytical skills as you learn how and when to use common tests like t-tests, proportion tests, and chi-square tests. Working with real-world data, including Stack Overflow user feedback and supply-chain data for medical supply shipments, you'll gain a deep understanding of how these tests work and the key assumptions that underpin them. You'll also discover how non-parametric tests can be used to go beyond the limitations of traditional hypothesis tests."
      ],
      "metadata": {
        "id": "Su3WH537vZIR"
      }
    },
    {
      "cell_type": "markdown",
      "source": [
        "#CHAPTER 1\n",
        "## Introduction to Hypothesis Testing\n",
        "\n",
        "How does hypothesis testing work and what problems can it solve? To find out, you’ll walk through the workflow for a one sample proportion test. In doing so, you'll encounter important concepts like z-scores, p-values, and false negative and false positive errors.\n",
        "\n",
        "Recap:\n",
        "1. Standard error of sample statistic from bootstrap distrubtion\n",
        "2. Compute a standardized test statistic\n",
        "3. calculate a pvalue\n",
        "4. decide which hypothesis made most sense"
      ],
      "metadata": {
        "id": "XTvUm3jsvfGe"
      }
    },
    {
      "cell_type": "markdown",
      "source": [
        "## Uses of A/B testing\n",
        "In the video, you saw how Electronic Arts used A/B testing on their website when launching SimCity 5. One version of the page showed an advertisement for a discount, and one version did not. Half the users saw one version of the page, and the other half saw the second version of the page.\n",
        "\n",
        "What is the main reason to use an A/B test?\n",
        "\n",
        "Answer: It provides a way to check otucomes of competing scnearios and decide which way to proceed"
      ],
      "metadata": {
        "id": "fHXh8ktAxAjh"
      }
    },
    {
      "cell_type": "markdown",
      "source": [
        "# Calculating the sample mean\n",
        "The late_shipments dataset contains supply chain data on the delivery of medical supplies. Each row represents one delivery of a part. The late columns denotes whether or not the part was delivered late. A value of \"Yes\" means that the part was delivered late, and a value of \"No\" means the part was delivered on time.\n",
        "\n",
        "You'll begin your analysis by calculating a point estimate (or sample statistic), namely the proportion of late shipments.\n",
        "\n",
        "In pandas, a value's proportion in a categorical DataFrame column can be quickly calculated using the syntax:\n",
        "\n",
        "prop = (df['col'] == val).mean()\n",
        "late_shipments is available, and pandas is loaded as pd."
      ],
      "metadata": {
        "id": "CAzz5HyoxV7Z"
      }
    },
    {
      "cell_type": "code",
      "source": [
        "import pandas as pd\n",
        "late_shipments= pd.read_feather('late_shipments.feather')\n",
        "late_shipments.head()"
      ],
      "metadata": {
        "colab": {
          "base_uri": "https://localhost:8080/",
          "height": 334
        },
        "id": "t3gs3A-ZxJb1",
        "outputId": "757ac268-aa79-4a0f-d560-289cfc8cb82a"
      },
      "execution_count": null,
      "outputs": [
        {
          "output_type": "execute_result",
          "data": {
            "text/plain": [
              "        id       country managed_by  fulfill_via vendor_inco_term  \\\n",
              "0  36203.0       Nigeria   PMO - US  Direct Drop              EXW   \n",
              "1  30998.0      Botswana   PMO - US  Direct Drop              EXW   \n",
              "2  69871.0       Vietnam   PMO - US  Direct Drop              EXW   \n",
              "3  17648.0  South Africa   PMO - US  Direct Drop              DDP   \n",
              "4   5647.0        Uganda   PMO - US  Direct Drop              EXW   \n",
              "\n",
              "  shipment_mode  late_delivery late product_group    sub_classification  ...  \\\n",
              "0           Air            1.0  Yes          HRDT              HIV test  ...   \n",
              "1           Air            0.0   No          HRDT              HIV test  ...   \n",
              "2           Air            0.0   No           ARV                 Adult  ...   \n",
              "3         Ocean            0.0   No           ARV                 Adult  ...   \n",
              "4           Air            0.0   No          HRDT  HIV test - Ancillary  ...   \n",
              "\n",
              "  line_item_quantity line_item_value pack_price unit_price  \\\n",
              "0             2996.0       266644.00      89.00       0.89   \n",
              "1               25.0          800.00      32.00       1.60   \n",
              "2            22925.0       110040.00       4.80       0.08   \n",
              "3           152535.0       361507.95       2.37       0.04   \n",
              "4              850.0            8.50       0.01       0.00   \n",
              "\n",
              "             manufacturing_site first_line_designation  weight_kilograms  \\\n",
              "0       Alere Medical Co., Ltd.                    Yes            1426.0   \n",
              "1          Trinity Biotech, Plc                    Yes              10.0   \n",
              "2  Hetero Unit III Hyderabad IN                    Yes            3723.0   \n",
              "3     Aurobindo Unit III, India                    Yes            7698.0   \n",
              "4               Inverness Japan                    Yes              56.0   \n",
              "\n",
              "   freight_cost_usd  freight_cost_groups  line_item_insurance_usd  \n",
              "0          33279.83            expensive                   373.83  \n",
              "1            559.89           reasonable                     1.72  \n",
              "2          19056.13            expensive                   181.57  \n",
              "3          11372.23            expensive                   779.41  \n",
              "4            360.00           reasonable                     0.01  \n",
              "\n",
              "[5 rows x 27 columns]"
            ],
            "text/html": [
              "\n",
              "\n",
              "  <div id=\"df-d866fbb8-a090-4f3c-8971-1c4f525155bb\">\n",
              "    <div class=\"colab-df-container\">\n",
              "      <div>\n",
              "<style scoped>\n",
              "    .dataframe tbody tr th:only-of-type {\n",
              "        vertical-align: middle;\n",
              "    }\n",
              "\n",
              "    .dataframe tbody tr th {\n",
              "        vertical-align: top;\n",
              "    }\n",
              "\n",
              "    .dataframe thead th {\n",
              "        text-align: right;\n",
              "    }\n",
              "</style>\n",
              "<table border=\"1\" class=\"dataframe\">\n",
              "  <thead>\n",
              "    <tr style=\"text-align: right;\">\n",
              "      <th></th>\n",
              "      <th>id</th>\n",
              "      <th>country</th>\n",
              "      <th>managed_by</th>\n",
              "      <th>fulfill_via</th>\n",
              "      <th>vendor_inco_term</th>\n",
              "      <th>shipment_mode</th>\n",
              "      <th>late_delivery</th>\n",
              "      <th>late</th>\n",
              "      <th>product_group</th>\n",
              "      <th>sub_classification</th>\n",
              "      <th>...</th>\n",
              "      <th>line_item_quantity</th>\n",
              "      <th>line_item_value</th>\n",
              "      <th>pack_price</th>\n",
              "      <th>unit_price</th>\n",
              "      <th>manufacturing_site</th>\n",
              "      <th>first_line_designation</th>\n",
              "      <th>weight_kilograms</th>\n",
              "      <th>freight_cost_usd</th>\n",
              "      <th>freight_cost_groups</th>\n",
              "      <th>line_item_insurance_usd</th>\n",
              "    </tr>\n",
              "  </thead>\n",
              "  <tbody>\n",
              "    <tr>\n",
              "      <th>0</th>\n",
              "      <td>36203.0</td>\n",
              "      <td>Nigeria</td>\n",
              "      <td>PMO - US</td>\n",
              "      <td>Direct Drop</td>\n",
              "      <td>EXW</td>\n",
              "      <td>Air</td>\n",
              "      <td>1.0</td>\n",
              "      <td>Yes</td>\n",
              "      <td>HRDT</td>\n",
              "      <td>HIV test</td>\n",
              "      <td>...</td>\n",
              "      <td>2996.0</td>\n",
              "      <td>266644.00</td>\n",
              "      <td>89.00</td>\n",
              "      <td>0.89</td>\n",
              "      <td>Alere Medical Co., Ltd.</td>\n",
              "      <td>Yes</td>\n",
              "      <td>1426.0</td>\n",
              "      <td>33279.83</td>\n",
              "      <td>expensive</td>\n",
              "      <td>373.83</td>\n",
              "    </tr>\n",
              "    <tr>\n",
              "      <th>1</th>\n",
              "      <td>30998.0</td>\n",
              "      <td>Botswana</td>\n",
              "      <td>PMO - US</td>\n",
              "      <td>Direct Drop</td>\n",
              "      <td>EXW</td>\n",
              "      <td>Air</td>\n",
              "      <td>0.0</td>\n",
              "      <td>No</td>\n",
              "      <td>HRDT</td>\n",
              "      <td>HIV test</td>\n",
              "      <td>...</td>\n",
              "      <td>25.0</td>\n",
              "      <td>800.00</td>\n",
              "      <td>32.00</td>\n",
              "      <td>1.60</td>\n",
              "      <td>Trinity Biotech, Plc</td>\n",
              "      <td>Yes</td>\n",
              "      <td>10.0</td>\n",
              "      <td>559.89</td>\n",
              "      <td>reasonable</td>\n",
              "      <td>1.72</td>\n",
              "    </tr>\n",
              "    <tr>\n",
              "      <th>2</th>\n",
              "      <td>69871.0</td>\n",
              "      <td>Vietnam</td>\n",
              "      <td>PMO - US</td>\n",
              "      <td>Direct Drop</td>\n",
              "      <td>EXW</td>\n",
              "      <td>Air</td>\n",
              "      <td>0.0</td>\n",
              "      <td>No</td>\n",
              "      <td>ARV</td>\n",
              "      <td>Adult</td>\n",
              "      <td>...</td>\n",
              "      <td>22925.0</td>\n",
              "      <td>110040.00</td>\n",
              "      <td>4.80</td>\n",
              "      <td>0.08</td>\n",
              "      <td>Hetero Unit III Hyderabad IN</td>\n",
              "      <td>Yes</td>\n",
              "      <td>3723.0</td>\n",
              "      <td>19056.13</td>\n",
              "      <td>expensive</td>\n",
              "      <td>181.57</td>\n",
              "    </tr>\n",
              "    <tr>\n",
              "      <th>3</th>\n",
              "      <td>17648.0</td>\n",
              "      <td>South Africa</td>\n",
              "      <td>PMO - US</td>\n",
              "      <td>Direct Drop</td>\n",
              "      <td>DDP</td>\n",
              "      <td>Ocean</td>\n",
              "      <td>0.0</td>\n",
              "      <td>No</td>\n",
              "      <td>ARV</td>\n",
              "      <td>Adult</td>\n",
              "      <td>...</td>\n",
              "      <td>152535.0</td>\n",
              "      <td>361507.95</td>\n",
              "      <td>2.37</td>\n",
              "      <td>0.04</td>\n",
              "      <td>Aurobindo Unit III, India</td>\n",
              "      <td>Yes</td>\n",
              "      <td>7698.0</td>\n",
              "      <td>11372.23</td>\n",
              "      <td>expensive</td>\n",
              "      <td>779.41</td>\n",
              "    </tr>\n",
              "    <tr>\n",
              "      <th>4</th>\n",
              "      <td>5647.0</td>\n",
              "      <td>Uganda</td>\n",
              "      <td>PMO - US</td>\n",
              "      <td>Direct Drop</td>\n",
              "      <td>EXW</td>\n",
              "      <td>Air</td>\n",
              "      <td>0.0</td>\n",
              "      <td>No</td>\n",
              "      <td>HRDT</td>\n",
              "      <td>HIV test - Ancillary</td>\n",
              "      <td>...</td>\n",
              "      <td>850.0</td>\n",
              "      <td>8.50</td>\n",
              "      <td>0.01</td>\n",
              "      <td>0.00</td>\n",
              "      <td>Inverness Japan</td>\n",
              "      <td>Yes</td>\n",
              "      <td>56.0</td>\n",
              "      <td>360.00</td>\n",
              "      <td>reasonable</td>\n",
              "      <td>0.01</td>\n",
              "    </tr>\n",
              "  </tbody>\n",
              "</table>\n",
              "<p>5 rows × 27 columns</p>\n",
              "</div>\n",
              "      <button class=\"colab-df-convert\" onclick=\"convertToInteractive('df-d866fbb8-a090-4f3c-8971-1c4f525155bb')\"\n",
              "              title=\"Convert this dataframe to an interactive table.\"\n",
              "              style=\"display:none;\">\n",
              "\n",
              "  <svg xmlns=\"http://www.w3.org/2000/svg\" height=\"24px\"viewBox=\"0 0 24 24\"\n",
              "       width=\"24px\">\n",
              "    <path d=\"M0 0h24v24H0V0z\" fill=\"none\"/>\n",
              "    <path d=\"M18.56 5.44l.94 2.06.94-2.06 2.06-.94-2.06-.94-.94-2.06-.94 2.06-2.06.94zm-11 1L8.5 8.5l.94-2.06 2.06-.94-2.06-.94L8.5 2.5l-.94 2.06-2.06.94zm10 10l.94 2.06.94-2.06 2.06-.94-2.06-.94-.94-2.06-.94 2.06-2.06.94z\"/><path d=\"M17.41 7.96l-1.37-1.37c-.4-.4-.92-.59-1.43-.59-.52 0-1.04.2-1.43.59L10.3 9.45l-7.72 7.72c-.78.78-.78 2.05 0 2.83L4 21.41c.39.39.9.59 1.41.59.51 0 1.02-.2 1.41-.59l7.78-7.78 2.81-2.81c.8-.78.8-2.07 0-2.86zM5.41 20L4 18.59l7.72-7.72 1.47 1.35L5.41 20z\"/>\n",
              "  </svg>\n",
              "      </button>\n",
              "\n",
              "\n",
              "\n",
              "    <div id=\"df-cfd5f4ce-cf94-450b-9c81-249778fb558a\">\n",
              "      <button class=\"colab-df-quickchart\" onclick=\"quickchart('df-cfd5f4ce-cf94-450b-9c81-249778fb558a')\"\n",
              "              title=\"Suggest charts.\"\n",
              "              style=\"display:none;\">\n",
              "\n",
              "<svg xmlns=\"http://www.w3.org/2000/svg\" height=\"24px\"viewBox=\"0 0 24 24\"\n",
              "     width=\"24px\">\n",
              "    <g>\n",
              "        <path d=\"M19 3H5c-1.1 0-2 .9-2 2v14c0 1.1.9 2 2 2h14c1.1 0 2-.9 2-2V5c0-1.1-.9-2-2-2zM9 17H7v-7h2v7zm4 0h-2V7h2v10zm4 0h-2v-4h2v4z\"/>\n",
              "    </g>\n",
              "</svg>\n",
              "      </button>\n",
              "    </div>\n",
              "\n",
              "<style>\n",
              "  .colab-df-quickchart {\n",
              "    background-color: #E8F0FE;\n",
              "    border: none;\n",
              "    border-radius: 50%;\n",
              "    cursor: pointer;\n",
              "    display: none;\n",
              "    fill: #1967D2;\n",
              "    height: 32px;\n",
              "    padding: 0 0 0 0;\n",
              "    width: 32px;\n",
              "  }\n",
              "\n",
              "  .colab-df-quickchart:hover {\n",
              "    background-color: #E2EBFA;\n",
              "    box-shadow: 0px 1px 2px rgba(60, 64, 67, 0.3), 0px 1px 3px 1px rgba(60, 64, 67, 0.15);\n",
              "    fill: #174EA6;\n",
              "  }\n",
              "\n",
              "  [theme=dark] .colab-df-quickchart {\n",
              "    background-color: #3B4455;\n",
              "    fill: #D2E3FC;\n",
              "  }\n",
              "\n",
              "  [theme=dark] .colab-df-quickchart:hover {\n",
              "    background-color: #434B5C;\n",
              "    box-shadow: 0px 1px 3px 1px rgba(0, 0, 0, 0.15);\n",
              "    filter: drop-shadow(0px 1px 2px rgba(0, 0, 0, 0.3));\n",
              "    fill: #FFFFFF;\n",
              "  }\n",
              "</style>\n",
              "\n",
              "    <script>\n",
              "      async function quickchart(key) {\n",
              "        const containerElement = document.querySelector('#' + key);\n",
              "        const charts = await google.colab.kernel.invokeFunction(\n",
              "            'suggestCharts', [key], {});\n",
              "      }\n",
              "    </script>\n",
              "\n",
              "      <script>\n",
              "\n",
              "function displayQuickchartButton(domScope) {\n",
              "  let quickchartButtonEl =\n",
              "    domScope.querySelector('#df-cfd5f4ce-cf94-450b-9c81-249778fb558a button.colab-df-quickchart');\n",
              "  quickchartButtonEl.style.display =\n",
              "    google.colab.kernel.accessAllowed ? 'block' : 'none';\n",
              "}\n",
              "\n",
              "        displayQuickchartButton(document);\n",
              "      </script>\n",
              "      <style>\n",
              "    .colab-df-container {\n",
              "      display:flex;\n",
              "      flex-wrap:wrap;\n",
              "      gap: 12px;\n",
              "    }\n",
              "\n",
              "    .colab-df-convert {\n",
              "      background-color: #E8F0FE;\n",
              "      border: none;\n",
              "      border-radius: 50%;\n",
              "      cursor: pointer;\n",
              "      display: none;\n",
              "      fill: #1967D2;\n",
              "      height: 32px;\n",
              "      padding: 0 0 0 0;\n",
              "      width: 32px;\n",
              "    }\n",
              "\n",
              "    .colab-df-convert:hover {\n",
              "      background-color: #E2EBFA;\n",
              "      box-shadow: 0px 1px 2px rgba(60, 64, 67, 0.3), 0px 1px 3px 1px rgba(60, 64, 67, 0.15);\n",
              "      fill: #174EA6;\n",
              "    }\n",
              "\n",
              "    [theme=dark] .colab-df-convert {\n",
              "      background-color: #3B4455;\n",
              "      fill: #D2E3FC;\n",
              "    }\n",
              "\n",
              "    [theme=dark] .colab-df-convert:hover {\n",
              "      background-color: #434B5C;\n",
              "      box-shadow: 0px 1px 3px 1px rgba(0, 0, 0, 0.15);\n",
              "      filter: drop-shadow(0px 1px 2px rgba(0, 0, 0, 0.3));\n",
              "      fill: #FFFFFF;\n",
              "    }\n",
              "  </style>\n",
              "\n",
              "      <script>\n",
              "        const buttonEl =\n",
              "          document.querySelector('#df-d866fbb8-a090-4f3c-8971-1c4f525155bb button.colab-df-convert');\n",
              "        buttonEl.style.display =\n",
              "          google.colab.kernel.accessAllowed ? 'block' : 'none';\n",
              "\n",
              "        async function convertToInteractive(key) {\n",
              "          const element = document.querySelector('#df-d866fbb8-a090-4f3c-8971-1c4f525155bb');\n",
              "          const dataTable =\n",
              "            await google.colab.kernel.invokeFunction('convertToInteractive',\n",
              "                                                     [key], {});\n",
              "          if (!dataTable) return;\n",
              "\n",
              "          const docLinkHtml = 'Like what you see? Visit the ' +\n",
              "            '<a target=\"_blank\" href=https://colab.research.google.com/notebooks/data_table.ipynb>data table notebook</a>'\n",
              "            + ' to learn more about interactive tables.';\n",
              "          element.innerHTML = '';\n",
              "          dataTable['output_type'] = 'display_data';\n",
              "          await google.colab.output.renderOutput(dataTable, element);\n",
              "          const docLink = document.createElement('div');\n",
              "          docLink.innerHTML = docLinkHtml;\n",
              "          element.appendChild(docLink);\n",
              "        }\n",
              "      </script>\n",
              "    </div>\n",
              "  </div>\n"
            ]
          },
          "metadata": {},
          "execution_count": 1
        }
      ]
    },
    {
      "cell_type": "code",
      "source": [
        "# Print the late_shipments dataset\n",
        "print(late_shipments)\n",
        "\n",
        "# Calculate the proportion of late shipments\n",
        "late_prop_samp = (late_shipments['late'] == \"Yes\").mean()\n",
        "\n",
        "# Print the results\n",
        "print(late_prop_samp)"
      ],
      "metadata": {
        "colab": {
          "base_uri": "https://localhost:8080/"
        },
        "id": "k5LxSyWGxc4K",
        "outputId": "2edcaff7-d63f-4703-bc1f-ae9ca9cecb02"
      },
      "execution_count": null,
      "outputs": [
        {
          "output_type": "stream",
          "name": "stdout",
          "text": [
            "          id       country managed_by  fulfill_via vendor_inco_term  \\\n",
            "0    36203.0       Nigeria   PMO - US  Direct Drop              EXW   \n",
            "1    30998.0      Botswana   PMO - US  Direct Drop              EXW   \n",
            "2    69871.0       Vietnam   PMO - US  Direct Drop              EXW   \n",
            "3    17648.0  South Africa   PMO - US  Direct Drop              DDP   \n",
            "4     5647.0        Uganda   PMO - US  Direct Drop              EXW   \n",
            "..       ...           ...        ...          ...              ...   \n",
            "995  13608.0        Uganda   PMO - US  Direct Drop              DDP   \n",
            "996  80394.0    Congo, DRC   PMO - US  Direct Drop              EXW   \n",
            "997  61675.0        Zambia   PMO - US  Direct Drop              EXW   \n",
            "998  39182.0  South Africa   PMO - US  Direct Drop              DDP   \n",
            "999   5645.0      Botswana   PMO - US  Direct Drop              EXW   \n",
            "\n",
            "    shipment_mode  late_delivery late product_group    sub_classification  \\\n",
            "0             Air            1.0  Yes          HRDT              HIV test   \n",
            "1             Air            0.0   No          HRDT              HIV test   \n",
            "2             Air            0.0   No           ARV                 Adult   \n",
            "3           Ocean            0.0   No           ARV                 Adult   \n",
            "4             Air            0.0   No          HRDT  HIV test - Ancillary   \n",
            "..            ...            ...  ...           ...                   ...   \n",
            "995           Air            0.0   No           ARV                 Adult   \n",
            "996           Air            0.0   No          HRDT              HIV test   \n",
            "997           Air            1.0  Yes          HRDT              HIV test   \n",
            "998         Ocean            0.0   No           ARV                 Adult   \n",
            "999           Air            0.0   No          HRDT              HIV test   \n",
            "\n",
            "     ... line_item_quantity line_item_value pack_price unit_price  \\\n",
            "0    ...             2996.0       266644.00      89.00       0.89   \n",
            "1    ...               25.0          800.00      32.00       1.60   \n",
            "2    ...            22925.0       110040.00       4.80       0.08   \n",
            "3    ...           152535.0       361507.95       2.37       0.04   \n",
            "4    ...              850.0            8.50       0.01       0.00   \n",
            "..   ...                ...             ...        ...        ...   \n",
            "995  ...              121.0         9075.00      75.00       0.62   \n",
            "996  ...              292.0         9344.00      32.00       1.60   \n",
            "997  ...             2127.0       170160.00      80.00       0.80   \n",
            "998  ...           191011.0       861459.61       4.51       0.15   \n",
            "999  ...              200.0        14398.00      71.99       0.72   \n",
            "\n",
            "               manufacturing_site first_line_designation  weight_kilograms  \\\n",
            "0         Alere Medical Co., Ltd.                    Yes            1426.0   \n",
            "1            Trinity Biotech, Plc                    Yes              10.0   \n",
            "2    Hetero Unit III Hyderabad IN                    Yes            3723.0   \n",
            "3       Aurobindo Unit III, India                    Yes            7698.0   \n",
            "4                 Inverness Japan                    Yes              56.0   \n",
            "..                            ...                    ...               ...   \n",
            "995     Janssen-Cilag, Latina, IT                    Yes              43.0   \n",
            "996          Trinity Biotech, Plc                    Yes              99.0   \n",
            "997       Alere Medical Co., Ltd.                    Yes             881.0   \n",
            "998     Aurobindo Unit III, India                    Yes           16234.0   \n",
            "999               Inverness Japan                    Yes              46.0   \n",
            "\n",
            "     freight_cost_usd  freight_cost_groups  line_item_insurance_usd  \n",
            "0            33279.83            expensive                   373.83  \n",
            "1              559.89           reasonable                     1.72  \n",
            "2            19056.13            expensive                   181.57  \n",
            "3            11372.23            expensive                   779.41  \n",
            "4              360.00           reasonable                     0.01  \n",
            "..                ...                  ...                      ...  \n",
            "995            199.00           reasonable                    12.72  \n",
            "996           2162.55           reasonable                    13.10  \n",
            "997          14019.38            expensive                   210.49  \n",
            "998          14439.17            expensive                  1421.41  \n",
            "999           1028.18           reasonable                    23.04  \n",
            "\n",
            "[1000 rows x 27 columns]\n",
            "0.061\n"
          ]
        }
      ]
    },
    {
      "cell_type": "markdown",
      "source": [
        "# Calculating a z-score\n",
        "Since variables have arbitrary ranges and units, we need to standardize them. For example, a hypothesis test that gave different answers if the variables were in Euros instead of US dollars would be of little value. Standardization avoids that.\n",
        "\n",
        "One standardized value of interest in a hypothesis test is called a z-score. To calculate it, you need three numbers: the sample statistic (point estimate), the hypothesized statistic, and the standard error of the statistic (estimated from the bootstrap distribution).\n",
        "\n",
        "The sample statistic is available as late_prop_samp.\n",
        "\n",
        "late_shipments_boot_distn is a bootstrap distribution of the proportion of late shipments, available as a list.\n",
        "\n",
        "pandas and numpy are loaded with their usual aliases."
      ],
      "metadata": {
        "id": "so0BfnB0zMQP"
      }
    },
    {
      "cell_type": "code",
      "source": [
        "import numpy as np\n",
        "late_shipments_boot_distn = []\n",
        "\n",
        "# bootstrap distribution\n",
        "for i in range (5000):\n",
        "    late_shipments_boot_distn.append(\n",
        "        (late_shipments.sample(frac=1, replace=True)[\"late\"] == \"Yes\").mean()\n",
        "    )\n",
        "\n",
        "# standard error\n",
        "std_error = np.std(late_shipments_boot_distn, ddof=1)"
      ],
      "metadata": {
        "id": "ykc1VaDEzHTc"
      },
      "execution_count": null,
      "outputs": []
    },
    {
      "cell_type": "code",
      "source": [
        "# hypothesize the proportion is 6%\n",
        "late_prop_hyp= 0.06\n",
        "\n",
        "# calculate the standard error\n",
        "std_error= np.std(late_shipments_boot_distn, ddof=1)\n",
        "\n",
        "# find the z-score of late_prop_samp\n",
        "z_score= (late_prop_samp - late_prop_hyp)/std_error\n",
        "\n",
        "print(z_score)\n",
        "\n",
        "# z-score is a standardized measure of the difference between the sample statistic and the hypothesized statistic."
      ],
      "metadata": {
        "colab": {
          "base_uri": "https://localhost:8080/"
        },
        "id": "ml3v-tPKzoMw",
        "outputId": "45bfcdf1-9497-4495-a919-fbb66a66af54"
      },
      "execution_count": null,
      "outputs": [
        {
          "output_type": "stream",
          "name": "stdout",
          "text": [
            "0.1297784978527424\n"
          ]
        }
      ]
    },
    {
      "cell_type": "markdown",
      "source": [
        "## P-values"
      ],
      "metadata": {
        "id": "PlEQUN-n0V6o"
      }
    },
    {
      "cell_type": "markdown",
      "source": [
        "Criminal trials and hypothesis tests\n",
        "In the video, you saw how hypothesis testing follows a similar process to criminal trials.\n",
        "\n",
        "Which of the following correctly matches up a criminal trial with properties of a hypothesis test?\n",
        "\n",
        "Just as the defendant is initially assumed not guilty, the null hypothesis is first assumed to be true."
      ],
      "metadata": {
        "id": "q6hyUeyO4esi"
      }
    },
    {
      "cell_type": "markdown",
      "source": [
        "### Left tail, right tail, two tails\n",
        "Hypothesis tests are used to determine whether the sample statistic lies in the tails of the null distribution. However, the way that the alternative hypothesis is phrased affects which tail(s) we are interested in.\n",
        "\n",
        "If the alternative hypothesis is about a difference between the sample statistic and the hypothesized value, then you need a two-tailed test.\n",
        "\n",
        "If the alternative hypothesis is about the sample statistic being less than the hypothesized value, then you need a left-tailed test.\n",
        "\n",
        "If the alternative hypothesis is about the sample statistic being greater than the hypothesized value, then you need a right-tailed test."
      ],
      "metadata": {
        "id": "SR4NAsip4sQl"
      }
    },
    {
      "cell_type": "markdown",
      "source": [
        "### Calculating p-values\n",
        "In order to determine whether to choose the null hypothesis or the alternative hypothesis, you need to calculate a p-value from the z-score.\n",
        "\n",
        "You'll now return to the late shipments dataset and the proportion of late shipments.\n",
        "\n",
        "The null hypothesis,\n",
        ", is that the proportion of late shipments is six percent.\n",
        "\n",
        "The alternative hypothesis,\n",
        ", is that the proportion of late shipments is greater than six percent.\n",
        "\n",
        "The observed sample statistic, late_prop_samp, the hypothesized value, late_prop_hyp (6%), and the bootstrap standard error, std_error are available. norm from scipy.stats has also been loaded without an alias.\n",
        "\n",
        "Right tailed test"
      ],
      "metadata": {
        "id": "qqHNQpS7464e"
      }
    },
    {
      "cell_type": "code",
      "source": [
        "from scipy.stats import norm"
      ],
      "metadata": {
        "id": "MgQC86v54f-8"
      },
      "execution_count": null,
      "outputs": []
    },
    {
      "cell_type": "code",
      "source": [
        "# calculate zscore\n",
        "z_score= (late_prop_samp- late_prop_hyp) / std_error\n",
        "\n",
        "# calculate the pvalue\n",
        "p_value= 1 - norm.cdf(z_score, loc=0, scale=1)\n",
        "\n",
        "#print\n",
        "print(p_value)\n",
        "\n",
        "#The p-value is calculated by transforming the z-score with the standard normal cumulative distribution function."
      ],
      "metadata": {
        "colab": {
          "base_uri": "https://localhost:8080/"
        },
        "id": "tE4mIohR5Kc9",
        "outputId": "b8ddcd1c-39cb-40b5-b159-82e401c21ca6"
      },
      "execution_count": null,
      "outputs": [
        {
          "output_type": "stream",
          "name": "stdout",
          "text": [
            "0.4483708376264385\n"
          ]
        }
      ]
    },
    {
      "cell_type": "markdown",
      "source": [
        "## Statistical significance\n"
      ],
      "metadata": {
        "id": "H1-7__oa53QS"
      }
    },
    {
      "cell_type": "markdown",
      "source": [
        "### Decisions from p-values\n",
        "\n",
        "\n",
        "If the p-value is less than or equal to the significance level, you reject the null hypothesis.\n",
        "\n",
        "ex: pvalue < 0.05 reject Null hyptohesis accept alternate hypthosis"
      ],
      "metadata": {
        "id": "JWaj0hYJ7JcI"
      }
    },
    {
      "cell_type": "markdown",
      "source": [
        "### Calculating a confidence interval\n",
        "If you give a single estimate of a sample statistic, you are bound to be wrong by some amount. For example, the hypothesized proportion of late shipments was 6%. Even if evidence suggests the null hypothesis that the proportion of late shipments is equal to this, for any new sample of shipments, the proportion is likely to be a little different due to sampling variability. Consequently, it's a good idea to state a confidence interval. That is, you say, \"we are 95% 'confident' that the proportion of late shipments is between A and B\" (for some value of A and B).\n",
        "\n",
        "Sampling in Python demonstrated two methods for calculating confidence intervals. Here, you'll use quantiles of the bootstrap distribution to calculate the confidence interval.\n",
        "\n",
        "late_prop_samp and late_shipments_boot_distn are available; pandas and numpy are loaded with their usual aliases."
      ],
      "metadata": {
        "id": "I_-F-geQ7Jen"
      }
    },
    {
      "cell_type": "code",
      "source": [
        "# Calculate 95% confidence interval using quantile method\n",
        "lower = np.quantile(late_shipments_boot_distn, 0.025)\n",
        "upper = np.quantile(late_shipments_boot_distn, .975)\n",
        "\n",
        "# Print the confidence interval\n",
        "print((lower, upper))\n",
        "\n",
        "# Since 0.6 is included in 95% confidence interval we fail to reject null hypothesis, due to larget p-value\n",
        "#When you have a confidence interval width equal to one minus the significance level, if the hypothesized population parameter is within the confidence interval, you should fail to reject the null hypothesis."
      ],
      "metadata": {
        "colab": {
          "base_uri": "https://localhost:8080/"
        },
        "id": "fyJ57H1P5wrB",
        "outputId": "ea740d4a-3197-432b-e70c-310f1e97cba6"
      },
      "execution_count": null,
      "outputs": [
        {
          "output_type": "stream",
          "name": "stdout",
          "text": [
            "(0.046, 0.077)\n"
          ]
        }
      ]
    },
    {
      "cell_type": "markdown",
      "source": [
        "### Type I and type II errors\n",
        "For hypothesis tests and for criminal trials, there are two states of truth and two possible outcomes. Two combinations are correct test outcomes, and there are two ways it can go wrong.\n",
        "\n",
        "The errors are known as false positives (or \"type I errors\"), and false negatives (or \"type II errors\").\n",
        "\n",
        "If you chose to Alternative hypothesis but it actaully is null hypothesis false positive\n",
        "\n",
        "If you chose the null hypothesis and it is actaully alternative hypothesis false negative"
      ],
      "metadata": {
        "id": "WfX2hqaH9LUr"
      }
    },
    {
      "cell_type": "markdown",
      "source": [
        "# CHAPTER 2 Two-Sample and ANOVA Tests\n",
        "\n",
        "\n",
        "In this chapter, you’ll learn how to test for differences in means between two groups using t-tests and extend this to more than two groups using ANOVA and pairwise t-tests.\n",
        "\n"
      ],
      "metadata": {
        "id": "z3CDpDTL-0Ib"
      }
    },
    {
      "cell_type": "markdown",
      "source": [
        "### Hypothesis testing workflow\n",
        "You've seen the hypothesis testing workflow for the one sample case where you compared a sample mean to a hypothesized value, and the two sample case where you compared two sample means. In both cases, the workflow shares common steps.\n",
        "\n",
        "1. Identify population parameter that is hypothesized about\n",
        "2. Specify the null and alternative hypothesis\n",
        "3. Detemine (standarized) test statistic and corresponding Null Distrubtion\n",
        "4. Conduct hypothesis testing in Python\n",
        "5. Measure evidence against null hypothesis\n",
        "6. Make decision comparing evidence to significance level\n",
        "7. interpret the results in teh context of original problem"
      ],
      "metadata": {
        "id": "WdScgvsL-0K4"
      }
    },
    {
      "cell_type": "markdown",
      "source": [
        "### Two sample mean test statistic\n",
        "The hypothesis test for determining if there is a difference between the means of two populations uses a different type of test statistic to the z-scores you saw in Chapter 1. It's called \"t\", and it can be calculated from three values from each sample using this equation.\n",
        "\n",
        "\n",
        "\n",
        "\n",
        "\n",
        "While trying to determine why some shipments are late, you may wonder if the weight of the shipments that were on time is less than the weight of the shipments that were late. The late_shipments dataset has been split into a \"yes\" group, where late == \"Yes\" and a \"no\" group where late == \"No\". The weight of the shipment is given in the weight_kilograms variable.\n",
        "\n",
        "The sample means for the two groups are available as xbar_no and xbar_yes. The sample standard deviations are s_no and s_yes. The sample sizes are n_no and n_yes. numpy is also loaded as np."
      ],
      "metadata": {
        "id": "KyAJa4_g-0NV"
      }
    },
    {
      "cell_type": "code",
      "source": [
        "late_shipments.groupby('late')['weight_kilograms'].mean()"
      ],
      "metadata": {
        "colab": {
          "base_uri": "https://localhost:8080/"
        },
        "id": "wyPbrI8Y8xfr",
        "outputId": "33430c15-961e-49fb-8013-9bc210884942"
      },
      "execution_count": null,
      "outputs": [
        {
          "output_type": "execute_result",
          "data": {
            "text/plain": [
              "late\n",
              "No     1897.791267\n",
              "Yes    2715.672131\n",
              "Name: weight_kilograms, dtype: float64"
            ]
          },
          "metadata": {},
          "execution_count": 8
        }
      ]
    },
    {
      "cell_type": "code",
      "source": [
        "xbar_yes= late_shipments[late_shipments.late == 'Yes']['weight_kilograms'].mean()\n",
        "xbar_no= late_shipments[late_shipments.late == 'No']['weight_kilograms'].mean()\n",
        "s_no = late_shipments[late_shipments.late == 'No']['weight_kilograms'].std()\n",
        "s_yes= late_shipments[late_shipments.late == 'Yes']['weight_kilograms'].std()\n",
        "n_no= len(late_shipments[late_shipments.late == 'No'])\n",
        "n_yes= len(late_shipments[late_shipments.late == 'Yes'])\n",
        "print(s_yes)"
      ],
      "metadata": {
        "colab": {
          "base_uri": "https://localhost:8080/"
        },
        "id": "dtV3J92aDZLi",
        "outputId": "d65bac1f-e47a-466b-f1bd-c79a57285645"
      },
      "execution_count": null,
      "outputs": [
        {
          "output_type": "stream",
          "name": "stdout",
          "text": [
            "2544.688210903328\n"
          ]
        }
      ]
    },
    {
      "cell_type": "code",
      "source": [
        "# Calculate the numerator of the test statistic\n",
        "numerator = xbar_no - xbar_yes\n",
        "\n",
        "# Calculate the denominator of the test statistic\n",
        "denominator = np.sqrt(s_no ** 2 / n_no + s_yes ** 2 / n_yes)\n",
        "\n",
        "# Calculate the test statistic\n",
        "t_stat = numerator/denominator\n",
        "\n",
        "# Print the test statistic\n",
        "print(t_stat)\n",
        "\n",
        "# Here, the value is about -2.39 or 2.39, depending on the order you calculated the numerator."
      ],
      "metadata": {
        "colab": {
          "base_uri": "https://localhost:8080/"
        },
        "id": "GyhpO2xNDj4V",
        "outputId": "18d8f440-b34a-40cb-86f1-2f382c1dc55e"
      },
      "execution_count": null,
      "outputs": [
        {
          "output_type": "stream",
          "name": "stdout",
          "text": [
            "-2.3936661778766433\n"
          ]
        }
      ]
    },
    {
      "cell_type": "markdown",
      "source": [
        "## Calculating p-values from t-statistics\n"
      ],
      "metadata": {
        "id": "MP5eKw9sYOvE"
      }
    },
    {
      "cell_type": "markdown",
      "source": [
        "### Why is t needed?\n",
        "The process for calculating p-values is to start with the sample statistic, standardize it to get a test statistic, then transform it via a cumulative distribution function. In Chapter 1, that final transformation was denoted\n",
        ", and the CDF transformation used the (standard normal) z-distribution. In the last video, the test statistic was denoted\n",
        ", and the transformation used the t-distribution.\n",
        "\n",
        "In which hypothesis testing scenario is a t-distribution needed instead of the z-distribution?\n",
        "\n",
        "a:\n",
        "When a sample standard deviation is used in estimating a standard error.\n",
        "Using 2 groups"
      ],
      "metadata": {
        "id": "YNbNf6cDZNVB"
      }
    },
    {
      "cell_type": "markdown",
      "source": [
        "### The t-distribution\n",
        "The t-distribution is used to calculate the p-value from the\n",
        " test statistic, and having a sense of how the PDF and CDF look can help you understand this calculation. It has two parameters: the degrees of freedom, and the non-centrality parameter.\n",
        "\n",
        "The plots show the PDF and CDF for a t-distribution (solid black line), and for comparison show a standard normal distribution with mean 0 and variance 1 (gray dotted line).\n",
        "\n",
        "\n",
        "As you increase the degrees of freedom, the t-distribution PDF and CDF curves get closer to those of a normal distribution.\n",
        "\n"
      ],
      "metadata": {
        "id": "2C2Igqn6ZNXF"
      }
    },
    {
      "cell_type": "markdown",
      "source": [
        "### From t to p\n",
        "Previously, you calculated the test statistic for the two-sample problem of whether the mean weight of shipments is smaller for shipments that weren't late (late == \"No\") compared to shipments that were late (late == \"Yes\"). In order to make decisions about it, you need to transform the test statistic with a cumulative distribution function to get a p-value.\n",
        "\n",
        "Recall the hypotheses:\n",
        "\n",
        "Null Hypothesis: The mean weight of shipments that weren't late is the same as the mean weight of shipments that were late.\n",
        "\n",
        "Alternative: The mean weight of shipments that weren't late is less than the mean weight of shipments that were late.\n",
        "\n",
        "The test statistic, t_stat, is available, as are the samples sizes for each group, n_no and n_yes. Use a significance level of alpha = 0.05.\n",
        "\n",
        "t has also been imported from scipy.stats.\n",
        "\n",
        "Left-test"
      ],
      "metadata": {
        "id": "vxqdnnJyZ713"
      }
    },
    {
      "cell_type": "code",
      "source": [
        "from scipy.stats import t\n",
        "# calculate degree of freedom. Len of no + len of yes/2\n",
        "degrees_of_freedom= n_no + n_yes -2\n",
        "\n",
        "# calculcate the pvalue from the test stat\n",
        "p_value= t.cdf(t_stat, df=degrees_of_freedom)\n",
        "\n",
        "#print\n",
        "print(p_value)\n",
        "\n",
        "# reject null hypothesis\n",
        "#W When the standard error is estimated from the sample standard deviation and sample size, the test statistic is transformed into a p-value\n",
        "# using the t-distribution."
      ],
      "metadata": {
        "colab": {
          "base_uri": "https://localhost:8080/"
        },
        "id": "CC4PfTZAFBkH",
        "outputId": "fd155abc-1ce5-4dc3-ed5b-2d5394d2c347"
      },
      "execution_count": null,
      "outputs": [
        {
          "output_type": "stream",
          "name": "stdout",
          "text": [
            "0.008432382146249523\n"
          ]
        }
      ]
    },
    {
      "cell_type": "markdown",
      "source": [
        "## Paired t-tests"
      ],
      "metadata": {
        "id": "o1G7cLZQa5y2"
      }
    },
    {
      "cell_type": "code",
      "source": [
        "!pip install pingouin\n",
        "import pingouin"
      ],
      "metadata": {
        "colab": {
          "base_uri": "https://localhost:8080/"
        },
        "id": "tZcNBXeUauQ7",
        "outputId": "9f55fe3e-6ebb-4eb8-dc61-78cf37f38e28"
      },
      "execution_count": null,
      "outputs": [
        {
          "output_type": "stream",
          "name": "stdout",
          "text": [
            "Collecting pingouin\n",
            "  Downloading pingouin-0.5.3-py3-none-any.whl (198 kB)\n",
            "\u001b[?25l     \u001b[90m━━━━━━━━━━━━━━━━━━━━━━━━━━━━━━━━━━━━━━━━\u001b[0m \u001b[32m0.0/198.6 kB\u001b[0m \u001b[31m?\u001b[0m eta \u001b[36m-:--:--\u001b[0m\r\u001b[2K     \u001b[91m━━━━━━━━━━━━━━━━━━\u001b[0m\u001b[91m╸\u001b[0m\u001b[90m━━━━━━━━━━━━━━━━━━━━━\u001b[0m \u001b[32m92.2/198.6 kB\u001b[0m \u001b[31m2.7 MB/s\u001b[0m eta \u001b[36m0:00:01\u001b[0m\r\u001b[2K     \u001b[90m━━━━━━━━━━━━━━━━━━━━━━━━━━━━━━━━━━━━━━━\u001b[0m \u001b[32m198.6/198.6 kB\u001b[0m \u001b[31m3.5 MB/s\u001b[0m eta \u001b[36m0:00:00\u001b[0m\n",
            "\u001b[?25hRequirement already satisfied: numpy>=1.19 in /usr/local/lib/python3.10/dist-packages (from pingouin) (1.22.4)\n",
            "Requirement already satisfied: scipy>=1.7 in /usr/local/lib/python3.10/dist-packages (from pingouin) (1.10.1)\n",
            "Requirement already satisfied: pandas>=1.0 in /usr/local/lib/python3.10/dist-packages (from pingouin) (1.5.3)\n",
            "Requirement already satisfied: matplotlib>=3.0.2 in /usr/local/lib/python3.10/dist-packages (from pingouin) (3.7.1)\n",
            "Requirement already satisfied: seaborn>=0.11 in /usr/local/lib/python3.10/dist-packages (from pingouin) (0.12.2)\n",
            "Requirement already satisfied: statsmodels>=0.13 in /usr/local/lib/python3.10/dist-packages (from pingouin) (0.13.5)\n",
            "Requirement already satisfied: scikit-learn in /usr/local/lib/python3.10/dist-packages (from pingouin) (1.2.2)\n",
            "Collecting pandas-flavor>=0.2.0 (from pingouin)\n",
            "  Downloading pandas_flavor-0.6.0-py3-none-any.whl (7.2 kB)\n",
            "Collecting outdated (from pingouin)\n",
            "  Downloading outdated-0.2.2-py2.py3-none-any.whl (7.5 kB)\n",
            "Requirement already satisfied: tabulate in /usr/local/lib/python3.10/dist-packages (from pingouin) (0.9.0)\n",
            "Requirement already satisfied: contourpy>=1.0.1 in /usr/local/lib/python3.10/dist-packages (from matplotlib>=3.0.2->pingouin) (1.1.0)\n",
            "Requirement already satisfied: cycler>=0.10 in /usr/local/lib/python3.10/dist-packages (from matplotlib>=3.0.2->pingouin) (0.11.0)\n",
            "Requirement already satisfied: fonttools>=4.22.0 in /usr/local/lib/python3.10/dist-packages (from matplotlib>=3.0.2->pingouin) (4.41.0)\n",
            "Requirement already satisfied: kiwisolver>=1.0.1 in /usr/local/lib/python3.10/dist-packages (from matplotlib>=3.0.2->pingouin) (1.4.4)\n",
            "Requirement already satisfied: packaging>=20.0 in /usr/local/lib/python3.10/dist-packages (from matplotlib>=3.0.2->pingouin) (23.1)\n",
            "Requirement already satisfied: pillow>=6.2.0 in /usr/local/lib/python3.10/dist-packages (from matplotlib>=3.0.2->pingouin) (8.4.0)\n",
            "Requirement already satisfied: pyparsing>=2.3.1 in /usr/local/lib/python3.10/dist-packages (from matplotlib>=3.0.2->pingouin) (3.1.0)\n",
            "Requirement already satisfied: python-dateutil>=2.7 in /usr/local/lib/python3.10/dist-packages (from matplotlib>=3.0.2->pingouin) (2.8.2)\n",
            "Requirement already satisfied: pytz>=2020.1 in /usr/local/lib/python3.10/dist-packages (from pandas>=1.0->pingouin) (2022.7.1)\n",
            "Requirement already satisfied: xarray in /usr/local/lib/python3.10/dist-packages (from pandas-flavor>=0.2.0->pingouin) (2022.12.0)\n",
            "Requirement already satisfied: patsy>=0.5.2 in /usr/local/lib/python3.10/dist-packages (from statsmodels>=0.13->pingouin) (0.5.3)\n",
            "Requirement already satisfied: setuptools>=44 in /usr/local/lib/python3.10/dist-packages (from outdated->pingouin) (67.7.2)\n",
            "Collecting littleutils (from outdated->pingouin)\n",
            "  Downloading littleutils-0.2.2.tar.gz (6.6 kB)\n",
            "  Preparing metadata (setup.py) ... \u001b[?25l\u001b[?25hdone\n",
            "Requirement already satisfied: requests in /usr/local/lib/python3.10/dist-packages (from outdated->pingouin) (2.27.1)\n",
            "Requirement already satisfied: joblib>=1.1.1 in /usr/local/lib/python3.10/dist-packages (from scikit-learn->pingouin) (1.3.1)\n",
            "Requirement already satisfied: threadpoolctl>=2.0.0 in /usr/local/lib/python3.10/dist-packages (from scikit-learn->pingouin) (3.2.0)\n",
            "Requirement already satisfied: six in /usr/local/lib/python3.10/dist-packages (from patsy>=0.5.2->statsmodels>=0.13->pingouin) (1.16.0)\n",
            "Requirement already satisfied: urllib3<1.27,>=1.21.1 in /usr/local/lib/python3.10/dist-packages (from requests->outdated->pingouin) (1.26.16)\n",
            "Requirement already satisfied: certifi>=2017.4.17 in /usr/local/lib/python3.10/dist-packages (from requests->outdated->pingouin) (2023.5.7)\n",
            "Requirement already satisfied: charset-normalizer~=2.0.0 in /usr/local/lib/python3.10/dist-packages (from requests->outdated->pingouin) (2.0.12)\n",
            "Requirement already satisfied: idna<4,>=2.5 in /usr/local/lib/python3.10/dist-packages (from requests->outdated->pingouin) (3.4)\n",
            "Building wheels for collected packages: littleutils\n",
            "  Building wheel for littleutils (setup.py) ... \u001b[?25l\u001b[?25hdone\n",
            "  Created wheel for littleutils: filename=littleutils-0.2.2-py3-none-any.whl size=7029 sha256=f96d7207f0ceef066cfb9b0058ccbcf11e39b42b93e03eeb73af586c34a289d9\n",
            "  Stored in directory: /root/.cache/pip/wheels/3d/fe/b0/27a9892da57472e538c7452a721a9cf463cc03cf7379889266\n",
            "Successfully built littleutils\n",
            "Installing collected packages: littleutils, outdated, pandas-flavor, pingouin\n",
            "Successfully installed littleutils-0.2.2 outdated-0.2.2 pandas-flavor-0.6.0 pingouin-0.5.3\n"
          ]
        }
      ]
    },
    {
      "cell_type": "markdown",
      "source": [
        "### Is pairing needed?\n",
        "t-tests are used to compare two sample means. However, the test involves different calculations depending upon whether the two samples are paired or not. To make sure you use the correct version of the t-test, you need to be able to identify pairing.\n",
        "\n",
        "Paired: pre and post test are given to the same random sample of students\n",
        "\n",
        "Non-Paired: pre and post test are given to two different random samples of students"
      ],
      "metadata": {
        "id": "CoGUSdWGcPXw"
      }
    },
    {
      "cell_type": "markdown",
      "source": [
        "# Visualizing the difference\n",
        "Before you start running hypothesis tests, it's a great idea to perform some exploratory data analysis; that is, calculating summary statistics and visualizing distributions.\n",
        "\n",
        "Here, you'll look at the proportion of county-level votes for the Democratic candidate in 2012 and 2016, sample_dem_data. Since the counties are the same in both years, these samples are paired. The columns containing the samples are dem_percent_12 and dem_percent_16.\n",
        "\n",
        "dem_votes_potus_12_16 is available as sample_dem_data. pandas and matplotlib.pyplot are loaded with their usual aliases."
      ],
      "metadata": {
        "id": "WxRKCSHUc1uI"
      }
    },
    {
      "cell_type": "code",
      "source": [
        "sample_dem_data= pd.read_feather('dem_votes_potus_12_16.feather')\n",
        "sample_dem_data.head()"
      ],
      "metadata": {
        "colab": {
          "base_uri": "https://localhost:8080/",
          "height": 206
        },
        "id": "Fut1-IXgbsm6",
        "outputId": "300b84ee-3a15-445e-de3a-36a9bd8add6f"
      },
      "execution_count": null,
      "outputs": [
        {
          "output_type": "execute_result",
          "data": {
            "text/plain": [
              "     state    county  dem_percent_12  dem_percent_16\n",
              "0  Alabama   Bullock       76.305900       74.946921\n",
              "1  Alabama   Chilton       19.453671       15.847352\n",
              "2  Alabama      Clay       26.673672       18.674517\n",
              "3  Alabama   Cullman       14.661752       10.028252\n",
              "4  Alabama  Escambia       36.915731       31.020546"
            ],
            "text/html": [
              "\n",
              "\n",
              "  <div id=\"df-b18061a0-9135-4b58-ab00-92e03bd96c90\">\n",
              "    <div class=\"colab-df-container\">\n",
              "      <div>\n",
              "<style scoped>\n",
              "    .dataframe tbody tr th:only-of-type {\n",
              "        vertical-align: middle;\n",
              "    }\n",
              "\n",
              "    .dataframe tbody tr th {\n",
              "        vertical-align: top;\n",
              "    }\n",
              "\n",
              "    .dataframe thead th {\n",
              "        text-align: right;\n",
              "    }\n",
              "</style>\n",
              "<table border=\"1\" class=\"dataframe\">\n",
              "  <thead>\n",
              "    <tr style=\"text-align: right;\">\n",
              "      <th></th>\n",
              "      <th>state</th>\n",
              "      <th>county</th>\n",
              "      <th>dem_percent_12</th>\n",
              "      <th>dem_percent_16</th>\n",
              "    </tr>\n",
              "  </thead>\n",
              "  <tbody>\n",
              "    <tr>\n",
              "      <th>0</th>\n",
              "      <td>Alabama</td>\n",
              "      <td>Bullock</td>\n",
              "      <td>76.305900</td>\n",
              "      <td>74.946921</td>\n",
              "    </tr>\n",
              "    <tr>\n",
              "      <th>1</th>\n",
              "      <td>Alabama</td>\n",
              "      <td>Chilton</td>\n",
              "      <td>19.453671</td>\n",
              "      <td>15.847352</td>\n",
              "    </tr>\n",
              "    <tr>\n",
              "      <th>2</th>\n",
              "      <td>Alabama</td>\n",
              "      <td>Clay</td>\n",
              "      <td>26.673672</td>\n",
              "      <td>18.674517</td>\n",
              "    </tr>\n",
              "    <tr>\n",
              "      <th>3</th>\n",
              "      <td>Alabama</td>\n",
              "      <td>Cullman</td>\n",
              "      <td>14.661752</td>\n",
              "      <td>10.028252</td>\n",
              "    </tr>\n",
              "    <tr>\n",
              "      <th>4</th>\n",
              "      <td>Alabama</td>\n",
              "      <td>Escambia</td>\n",
              "      <td>36.915731</td>\n",
              "      <td>31.020546</td>\n",
              "    </tr>\n",
              "  </tbody>\n",
              "</table>\n",
              "</div>\n",
              "      <button class=\"colab-df-convert\" onclick=\"convertToInteractive('df-b18061a0-9135-4b58-ab00-92e03bd96c90')\"\n",
              "              title=\"Convert this dataframe to an interactive table.\"\n",
              "              style=\"display:none;\">\n",
              "\n",
              "  <svg xmlns=\"http://www.w3.org/2000/svg\" height=\"24px\"viewBox=\"0 0 24 24\"\n",
              "       width=\"24px\">\n",
              "    <path d=\"M0 0h24v24H0V0z\" fill=\"none\"/>\n",
              "    <path d=\"M18.56 5.44l.94 2.06.94-2.06 2.06-.94-2.06-.94-.94-2.06-.94 2.06-2.06.94zm-11 1L8.5 8.5l.94-2.06 2.06-.94-2.06-.94L8.5 2.5l-.94 2.06-2.06.94zm10 10l.94 2.06.94-2.06 2.06-.94-2.06-.94-.94-2.06-.94 2.06-2.06.94z\"/><path d=\"M17.41 7.96l-1.37-1.37c-.4-.4-.92-.59-1.43-.59-.52 0-1.04.2-1.43.59L10.3 9.45l-7.72 7.72c-.78.78-.78 2.05 0 2.83L4 21.41c.39.39.9.59 1.41.59.51 0 1.02-.2 1.41-.59l7.78-7.78 2.81-2.81c.8-.78.8-2.07 0-2.86zM5.41 20L4 18.59l7.72-7.72 1.47 1.35L5.41 20z\"/>\n",
              "  </svg>\n",
              "      </button>\n",
              "\n",
              "\n",
              "\n",
              "    <div id=\"df-ee55b6d6-56ec-4b4f-b4b9-7b6cc55d132f\">\n",
              "      <button class=\"colab-df-quickchart\" onclick=\"quickchart('df-ee55b6d6-56ec-4b4f-b4b9-7b6cc55d132f')\"\n",
              "              title=\"Suggest charts.\"\n",
              "              style=\"display:none;\">\n",
              "\n",
              "<svg xmlns=\"http://www.w3.org/2000/svg\" height=\"24px\"viewBox=\"0 0 24 24\"\n",
              "     width=\"24px\">\n",
              "    <g>\n",
              "        <path d=\"M19 3H5c-1.1 0-2 .9-2 2v14c0 1.1.9 2 2 2h14c1.1 0 2-.9 2-2V5c0-1.1-.9-2-2-2zM9 17H7v-7h2v7zm4 0h-2V7h2v10zm4 0h-2v-4h2v4z\"/>\n",
              "    </g>\n",
              "</svg>\n",
              "      </button>\n",
              "    </div>\n",
              "\n",
              "<style>\n",
              "  .colab-df-quickchart {\n",
              "    background-color: #E8F0FE;\n",
              "    border: none;\n",
              "    border-radius: 50%;\n",
              "    cursor: pointer;\n",
              "    display: none;\n",
              "    fill: #1967D2;\n",
              "    height: 32px;\n",
              "    padding: 0 0 0 0;\n",
              "    width: 32px;\n",
              "  }\n",
              "\n",
              "  .colab-df-quickchart:hover {\n",
              "    background-color: #E2EBFA;\n",
              "    box-shadow: 0px 1px 2px rgba(60, 64, 67, 0.3), 0px 1px 3px 1px rgba(60, 64, 67, 0.15);\n",
              "    fill: #174EA6;\n",
              "  }\n",
              "\n",
              "  [theme=dark] .colab-df-quickchart {\n",
              "    background-color: #3B4455;\n",
              "    fill: #D2E3FC;\n",
              "  }\n",
              "\n",
              "  [theme=dark] .colab-df-quickchart:hover {\n",
              "    background-color: #434B5C;\n",
              "    box-shadow: 0px 1px 3px 1px rgba(0, 0, 0, 0.15);\n",
              "    filter: drop-shadow(0px 1px 2px rgba(0, 0, 0, 0.3));\n",
              "    fill: #FFFFFF;\n",
              "  }\n",
              "</style>\n",
              "\n",
              "    <script>\n",
              "      async function quickchart(key) {\n",
              "        const containerElement = document.querySelector('#' + key);\n",
              "        const charts = await google.colab.kernel.invokeFunction(\n",
              "            'suggestCharts', [key], {});\n",
              "      }\n",
              "    </script>\n",
              "\n",
              "      <script>\n",
              "\n",
              "function displayQuickchartButton(domScope) {\n",
              "  let quickchartButtonEl =\n",
              "    domScope.querySelector('#df-ee55b6d6-56ec-4b4f-b4b9-7b6cc55d132f button.colab-df-quickchart');\n",
              "  quickchartButtonEl.style.display =\n",
              "    google.colab.kernel.accessAllowed ? 'block' : 'none';\n",
              "}\n",
              "\n",
              "        displayQuickchartButton(document);\n",
              "      </script>\n",
              "      <style>\n",
              "    .colab-df-container {\n",
              "      display:flex;\n",
              "      flex-wrap:wrap;\n",
              "      gap: 12px;\n",
              "    }\n",
              "\n",
              "    .colab-df-convert {\n",
              "      background-color: #E8F0FE;\n",
              "      border: none;\n",
              "      border-radius: 50%;\n",
              "      cursor: pointer;\n",
              "      display: none;\n",
              "      fill: #1967D2;\n",
              "      height: 32px;\n",
              "      padding: 0 0 0 0;\n",
              "      width: 32px;\n",
              "    }\n",
              "\n",
              "    .colab-df-convert:hover {\n",
              "      background-color: #E2EBFA;\n",
              "      box-shadow: 0px 1px 2px rgba(60, 64, 67, 0.3), 0px 1px 3px 1px rgba(60, 64, 67, 0.15);\n",
              "      fill: #174EA6;\n",
              "    }\n",
              "\n",
              "    [theme=dark] .colab-df-convert {\n",
              "      background-color: #3B4455;\n",
              "      fill: #D2E3FC;\n",
              "    }\n",
              "\n",
              "    [theme=dark] .colab-df-convert:hover {\n",
              "      background-color: #434B5C;\n",
              "      box-shadow: 0px 1px 3px 1px rgba(0, 0, 0, 0.15);\n",
              "      filter: drop-shadow(0px 1px 2px rgba(0, 0, 0, 0.3));\n",
              "      fill: #FFFFFF;\n",
              "    }\n",
              "  </style>\n",
              "\n",
              "      <script>\n",
              "        const buttonEl =\n",
              "          document.querySelector('#df-b18061a0-9135-4b58-ab00-92e03bd96c90 button.colab-df-convert');\n",
              "        buttonEl.style.display =\n",
              "          google.colab.kernel.accessAllowed ? 'block' : 'none';\n",
              "\n",
              "        async function convertToInteractive(key) {\n",
              "          const element = document.querySelector('#df-b18061a0-9135-4b58-ab00-92e03bd96c90');\n",
              "          const dataTable =\n",
              "            await google.colab.kernel.invokeFunction('convertToInteractive',\n",
              "                                                     [key], {});\n",
              "          if (!dataTable) return;\n",
              "\n",
              "          const docLinkHtml = 'Like what you see? Visit the ' +\n",
              "            '<a target=\"_blank\" href=https://colab.research.google.com/notebooks/data_table.ipynb>data table notebook</a>'\n",
              "            + ' to learn more about interactive tables.';\n",
              "          element.innerHTML = '';\n",
              "          dataTable['output_type'] = 'display_data';\n",
              "          await google.colab.output.renderOutput(dataTable, element);\n",
              "          const docLink = document.createElement('div');\n",
              "          docLink.innerHTML = docLinkHtml;\n",
              "          element.appendChild(docLink);\n",
              "        }\n",
              "      </script>\n",
              "    </div>\n",
              "  </div>\n"
            ]
          },
          "metadata": {},
          "execution_count": 13
        }
      ]
    },
    {
      "cell_type": "code",
      "source": [
        "import matplotlib.pyplot as plt\n",
        "# Calculate the differences from 2012 to 2016\n",
        "sample_dem_data['diff'] = sample_dem_data['dem_percent_12'] - sample_dem_data['dem_percent_16']\n",
        "\n",
        "# Find the mean of the diff column\n",
        "xbar_diff = sample_dem_data['diff'].mean()\n",
        "\n",
        "# Find the standard deviation of the diff column\n",
        "s_diff = sample_dem_data['diff'].std()\n",
        "\n",
        "# Plot a histogram of diff with 20 bins\n",
        "sample_dem_data['diff'].hist(bins=20)\n",
        "plt.show()\n",
        "\n",
        "#Notice that the majority of the histogram lies to the right of zero."
      ],
      "metadata": {
        "colab": {
          "base_uri": "https://localhost:8080/",
          "height": 430
        },
        "id": "cFAEzSTRdCDf",
        "outputId": "b6d95cd1-ee5f-4666-f320-d3cc8280dd0c"
      },
      "execution_count": null,
      "outputs": [
        {
          "output_type": "display_data",
          "data": {
            "text/plain": [
              "<Figure size 640x480 with 1 Axes>"
            ],
            "image/png": "[encoded data removed]"
          },
          "metadata": {}
        }
      ]
    },
    {
      "cell_type": "markdown",
      "source": [
        "### Using ttest()\n",
        "Manually calculating test statistics and transforming them with a CDF to get a p-value is a lot of effort to compare two sample means. The comparison of two sample means is called a t-test, and the pingouin Python package has a .ttest() method to accomplish it. This method provides some flexibility in how you perform the test.\n",
        "\n",
        "As in the previous exercise, you'll explore the difference between the proportion of county-level votes for the Democratic candidate in 2012 and 2016 to identify if the difference is significant. The hypotheses are as follows:\n",
        "\n",
        "Null Hypothesis: The proportion of democratic votes in 2012 and 2016 were the same.\n",
        "\n",
        "Alternative hypothesis: The proportion of democratic votes in 2012 and 2016 were different.\n",
        "\n",
        "sample_dem_data is available and has the columns diff, dem_percent_12, and dem_percent_16 in addition to the state and county names. pingouin and has been loaded along with pandas as pd."
      ],
      "metadata": {
        "id": "rXML8GOed2sp"
      }
    },
    {
      "cell_type": "code",
      "source": [
        "# Conduct a t-test on diff\n",
        "test_results = pingouin.ttest(x=sample_dem_data['diff'], y=0, alternative='two-sided')\n",
        "\n",
        "\n",
        "\n",
        "# Print the test results\n",
        "print(test_results)"
      ],
      "metadata": {
        "colab": {
          "base_uri": "https://localhost:8080/"
        },
        "id": "rTXAJjygdYep",
        "outputId": "d34404e8-dd0d-4370-f2b2-b2e2d025deb6"
      },
      "execution_count": null,
      "outputs": [
        {
          "output_type": "stream",
          "name": "stdout",
          "text": [
            "                T  dof alternative          p-val         CI95%   cohen-d  \\\n",
            "T-test  30.298384  499   two-sided  3.600634e-115  [6.39, 7.27]  1.354985   \n",
            "\n",
            "              BF10  power  \n",
            "T-test  2.246e+111    1.0  \n"
          ]
        }
      ]
    },
    {
      "cell_type": "code",
      "source": [
        "# conduct a pair ttest\n",
        "pair_results= pingouin.ttest(x= sample_dem_data['dem_percent_12'], y= sample_dem_data['dem_percent_16'], paired=True, alternative='two-sided')\n",
        "print(pair_results)\n",
        "\n",
        "# Compare the paired t-test to an (inappropriate) unpaired test on the same data. How does the p-value change?\n",
        "# increases\n",
        "# When you have paired data, a paired t-test is preferable to the unpaired version because it reduces the chance of a false negative error."
      ],
      "metadata": {
        "colab": {
          "base_uri": "https://localhost:8080/"
        },
        "id": "YNgq6TntedXH",
        "outputId": "fd03b8aa-f65c-4dc8-9036-cecb8dd92d3e"
      },
      "execution_count": null,
      "outputs": [
        {
          "output_type": "stream",
          "name": "stdout",
          "text": [
            "                T  dof alternative          p-val         CI95%   cohen-d  \\\n",
            "T-test  30.298384  499   two-sided  3.600634e-115  [6.39, 7.27]  0.454202   \n",
            "\n",
            "              BF10  power  \n",
            "T-test  2.246e+111    1.0  \n"
          ]
        }
      ]
    },
    {
      "cell_type": "markdown",
      "source": [
        "## ANOVA tests\n",
        "\n",
        "test for difference between groups"
      ],
      "metadata": {
        "id": "MZYCMkFSfp15"
      }
    },
    {
      "cell_type": "markdown",
      "source": [
        "### Visualizing many categories\n",
        "So far in this chapter, we've only considered the case of differences in a numeric variable between two categories. Of course, many datasets contain more categories. Before you get to conducting tests on many categories, it's often helpful to perform exploratory data analysis (EDA), calculating summary statistics for each group and visualizing the distributions of the numeric variable for each category using box plots.\n",
        "\n",
        "Here, we'll return to the late shipments data, and how the price of each package (pack_price) varies between the three shipment modes (shipment_mode): \"Air\", \"Air Charter\", and \"Ocean\".\n",
        "\n",
        "late_shipments is available; pandas and matplotlib.pyplot are loaded with their standard aliases, and seaborn is loaded as sns."
      ],
      "metadata": {
        "id": "NpESLIPohe4W"
      }
    },
    {
      "cell_type": "code",
      "source": [
        "import seaborn as sns\n",
        "# Calculate the mean pack_price for each shipment_mode\n",
        "xbar_pack_by_mode = late_shipments.groupby(\"shipment_mode\")['pack_price'].mean()\n",
        "\n",
        "# Calculate the standard deviation of the pack_price for each shipment_mode\n",
        "s_pack_by_mode = late_shipments.groupby(\"shipment_mode\")['pack_price'].std()\n",
        "\n",
        "# Boxplot of shipment_mode vs. pack_price\n",
        "sns.boxplot(x='pack_price', y='shipment_mode', data=late_shipments)\n",
        "plt.show()\n",
        "\n",
        "#There certainly looks to be a difference in the pack price between each of the three shipment modes.\n",
        "# Do you think the differences are statistically significant?"
      ],
      "metadata": {
        "colab": {
          "base_uri": "https://localhost:8080/",
          "height": 450
        },
        "id": "icvp1NC0fWGz",
        "outputId": "7657e4eb-873d-49eb-8966-159bf76a7640"
      },
      "execution_count": null,
      "outputs": [
        {
          "output_type": "display_data",
          "data": {
            "text/plain": [
              "<Figure size 640x480 with 1 Axes>"
            ],
            "image/png": "[encoded data removed]"
          },
          "metadata": {}
        }
      ]
    },
    {
      "cell_type": "markdown",
      "source": [
        "### Conducting an ANOVA test\n",
        "The box plots made it look like the distribution of pack price was different for each of the three shipment modes. However, it didn't tell us whether the mean pack price was different in each category. To determine that, we can use an ANOVA test. The null and alternative hypotheses can be written as follows.\n",
        "\n",
        "Null: Pack prices for every category of shipment mode are the same.\n",
        "\n",
        "Alternatvie: Pack prices for some categories of shipment mode are different.\n",
        "\n",
        "Use a significance level of 0.1.\n",
        "\n",
        "late_shipments is available and pingouin has been loaded."
      ],
      "metadata": {
        "id": "aFIgZXWfiJDT"
      }
    },
    {
      "cell_type": "code",
      "source": [
        "# get anova test\n",
        "anova= pingouin.anova(data= late_shipments, dv='pack_price', between='shipment_mode')\n",
        "print(anova)\n",
        "\n",
        "#There is a significant difference in pack prices between the shipment modes. However, we don't know which shipment modes this applies to."
      ],
      "metadata": {
        "colab": {
          "base_uri": "https://localhost:8080/"
        },
        "id": "YcCgzf92h_-w",
        "outputId": "eab1826a-fe3f-454e-9d0b-67d87af1596c"
      },
      "execution_count": null,
      "outputs": [
        {
          "output_type": "stream",
          "name": "stdout",
          "text": [
            "          Source  ddof1  ddof2        F         p-unc       np2\n",
            "0  shipment_mode      2    997  21.8646  5.089479e-10  0.042018\n"
          ]
        }
      ]
    },
    {
      "cell_type": "markdown",
      "source": [
        "### Pairwise t-tests\n",
        "The ANOVA test didn't tell you which categories of shipment mode had significant differences in pack prices. To pinpoint which categories had differences, you could instead use pairwise t-tests.\n",
        "\n",
        "late_shipments is available and pingouin has been loaded."
      ],
      "metadata": {
        "id": "XJphcM8oiw2c"
      }
    },
    {
      "cell_type": "code",
      "source": [
        "# Perform a pairwise t-test on pack price, grouped by shipment mode\n",
        "pairwise_results = pingouin.pairwise_tests(data=late_shipments, dv='pack_price', between='shipment_mode')\n",
        "\n",
        "# Print pairwise_results\n",
        "print(pairwise_results)"
      ],
      "metadata": {
        "colab": {
          "base_uri": "https://localhost:8080/"
        },
        "id": "Tc_KCKE2iq3_",
        "outputId": "9debced6-f461-420c-825f-3adaf6886f61"
      },
      "execution_count": null,
      "outputs": [
        {
          "output_type": "stream",
          "name": "stdout",
          "text": [
            "        Contrast            A            B  Paired  Parametric          T  \\\n",
            "0  shipment_mode          Air  Air Charter   False        True  21.179625   \n",
            "1  shipment_mode          Air        Ocean   False        True  19.335760   \n",
            "2  shipment_mode  Air Charter        Ocean   False        True  -3.170654   \n",
            "\n",
            "          dof alternative         p-unc       BF10    hedges  \n",
            "0  600.685682   two-sided  8.748346e-75  5.809e+76  0.726592  \n",
            "1  986.979785   two-sided  6.934555e-71  1.129e+67  0.711119  \n",
            "2   35.615026   two-sided  3.123012e-03     15.277 -0.423775  \n"
          ]
        }
      ]
    },
    {
      "cell_type": "code",
      "source": [
        "# Modify the pairwise t-tests to use Bonferroni p-value adjustment\n",
        "pairwise_results = pingouin.pairwise_tests(data=late_shipments,\n",
        "                                           dv=\"pack_price\",\n",
        "                                           between=\"shipment_mode\",\n",
        "                                           padjust=\"bonf\")\n",
        "\n",
        "# Print pairwise_results\n",
        "print(pairwise_results)\n",
        "\n",
        "# After applying the Bonferroni adjustment, the p-values for the t-tests between each of the three groups are all less than 0.1."
      ],
      "metadata": {
        "colab": {
          "base_uri": "https://localhost:8080/"
        },
        "id": "xXkJ7G7YjS9v",
        "outputId": "9300a339-60da-44b7-e60a-3b0a2379554a"
      },
      "execution_count": null,
      "outputs": [
        {
          "output_type": "stream",
          "name": "stdout",
          "text": [
            "        Contrast            A            B  Paired  Parametric          T  \\\n",
            "0  shipment_mode          Air  Air Charter   False        True  21.179625   \n",
            "1  shipment_mode          Air        Ocean   False        True  19.335760   \n",
            "2  shipment_mode  Air Charter        Ocean   False        True  -3.170654   \n",
            "\n",
            "          dof alternative         p-unc        p-corr p-adjust       BF10  \\\n",
            "0  600.685682   two-sided  8.748346e-75  2.624504e-74     bonf  5.809e+76   \n",
            "1  986.979785   two-sided  6.934555e-71  2.080367e-70     bonf  1.129e+67   \n",
            "2   35.615026   two-sided  3.123012e-03  9.369037e-03     bonf     15.277   \n",
            "\n",
            "     hedges  \n",
            "0  0.726592  \n",
            "1  0.711119  \n",
            "2 -0.423775  \n"
          ]
        }
      ]
    },
    {
      "cell_type": "markdown",
      "source": [
        "#CHAPTER 3 Proportion Test\n",
        "\n",
        "Now it’s time to test for differences in proportions between two groups using proportion tests. Through hands-on exercises, you’ll extend your proportion tests to more than two groups with chi-square independence tests, and return to the one sample case with chi-square goodness of fit tests."
      ],
      "metadata": {
        "id": "jUzuSdvKl_ac"
      }
    },
    {
      "cell_type": "markdown",
      "source": [
        "### t for proportions?\n",
        "Some of the hypothesis tests in this course have used a\n",
        " test statistic and some have used a\n",
        " test statistic. To get the correct p-value, you need to use the right type of test statistic.\n",
        "\n",
        "Do tests of proportion(s) use a\n",
        "z or a t\n",
        " test statistic and why?\n",
        "\n",
        " Answer: z : The test statistic for proportion(s) has only one estimate of a parameter instead of two.\n"
      ],
      "metadata": {
        "id": "Gm1IMMzjl_hN"
      }
    },
    {
      "cell_type": "markdown",
      "source": [
        "### Test for single proportions\n",
        "In Chapter 1, you calculated a p-value for a test hypothesizing that the proportion of late shipments was greater than 6%. In that chapter, you used a bootstrap distribution to estimate the standard error of the statistic. An alternative is to use an equation for the standard error based on the sample proportion, hypothesized proportion, and sample size.\n",
        "\n",
        "You'll revisit the p-value using this simpler calculation.\n",
        "\n",
        "late_shipments is available. pandas and numpy are available under their usual aliases, and norm is loaded from scipy.stats."
      ],
      "metadata": {
        "id": "VUGclQLyoOa4"
      }
    },
    {
      "cell_type": "code",
      "source": [
        "# Hypothesize that the proportion of late shipment is 6%\n",
        "p_0= 0.06\n",
        "\n",
        "# calculate the sample proportion of late shipments\n",
        "p_hat= (late_shipments.late == 'Yes').mean()\n",
        "\n",
        "# calculate length\n",
        "n= len(late_shipments)\n",
        "\n",
        "# Print p_hat and n\n",
        "print(p_hat, n)"
      ],
      "metadata": {
        "colab": {
          "base_uri": "https://localhost:8080/"
        },
        "id": "p4-CvZ7kjZrL",
        "outputId": "22d8d0d4-814c-48e1-9e7c-2c532bf7760e"
      },
      "execution_count": null,
      "outputs": [
        {
          "output_type": "stream",
          "name": "stdout",
          "text": [
            "0.061 1000\n"
          ]
        }
      ]
    },
    {
      "cell_type": "code",
      "source": [
        "# Hypothesize that the proportion of late shipments is 6%\n",
        "p_0 = 0.06\n",
        "\n",
        "# Calculate the sample proportion of late shipments\n",
        "p_hat = (late_shipments['late'] == \"Yes\").mean()\n",
        "\n",
        "# Calculate the sample size\n",
        "n = len(late_shipments)\n",
        "\n",
        "# Calculate the numerator and denominator of the test statistic\n",
        "numerator = p_hat - p_0\n",
        "denominator = np.sqrt(p_0 * (1 - p_0) / n)\n",
        "\n",
        "# Calculate the test statistic\n",
        "z_score = numerator / denominator\n",
        "print(z_score)"
      ],
      "metadata": {
        "colab": {
          "base_uri": "https://localhost:8080/"
        },
        "id": "-R65lB1epFLT",
        "outputId": "d4a790c3-1fe7-48fb-849f-c803d8b2f56e"
      },
      "execution_count": null,
      "outputs": [
        {
          "output_type": "stream",
          "name": "stdout",
          "text": [
            "0.13315591032282698\n"
          ]
        }
      ]
    },
    {
      "cell_type": "code",
      "source": [
        "# Hypothesize that the proportion of late shipments is 6%\n",
        "p_0 = 0.06\n",
        "\n",
        "# Calculate the sample proportion of late shipments\n",
        "p_hat = (late_shipments['late'] == \"Yes\").mean()\n",
        "\n",
        "# Calculate the sample size\n",
        "n = len(late_shipments)\n",
        "\n",
        "# Calculate the numerator and denominator of the test statistic\n",
        "numerator = p_hat - p_0\n",
        "denominator = np.sqrt(p_0 * (1 - p_0) / n)\n",
        "\n",
        "# Calculate the test statistic\n",
        "z_score = numerator / denominator\n",
        "\n",
        "# Calculate the p-value from the z-score\n",
        "p_value = 1- norm.cdf(z_score)\n",
        "\n",
        "# Print the p-value\n",
        "print(p_value)\n",
        "\n",
        "#For proportions, using a simple equation of the hypothesized proportion and sample size is easier to compute."
      ],
      "metadata": {
        "colab": {
          "base_uri": "https://localhost:8080/"
        },
        "id": "XhnjfTI-pllT",
        "outputId": "0a57d0b6-4dee-430c-bc36-4bd8f03f3d21"
      },
      "execution_count": null,
      "outputs": [
        {
          "output_type": "stream",
          "name": "stdout",
          "text": [
            "0.44703503936503364\n"
          ]
        }
      ]
    },
    {
      "cell_type": "markdown",
      "source": [
        "## Two-sample proportion tests\n",
        "\n",
        "comparing two proportions: proporiton of amazon users is the same for those under thirty as those thirty"
      ],
      "metadata": {
        "id": "Jfvv_k5mrNCo"
      }
    },
    {
      "cell_type": "markdown",
      "source": [
        "## Test of two proportions\n",
        "You may wonder if the amount paid for freight affects whether or not the shipment was late. Recall that in the late_shipments dataset, whether or not the shipment was late is stored in the late column. Freight costs are stored in the freight_cost_group column, and the categories are \"expensive\" and \"reasonable\".\n",
        "\n",
        "The hypotheses to test, with \"late\" corresponding to the proportion of late shipments for that group, are\n",
        "\n",
        "Null Hypothesis: late_expensive - late_resonable =0\n",
        "Alternative Hypothesis: late_expensive - late_resonable >0\n",
        "\n",
        "p_hats contains the estimates of population proportions (sample proportions) for each freight_cost_group:\n",
        "\n",
        "freight_cost_group  late\n",
        "expensive           Yes     0.082569\n",
        "reasonable          Yes     0.035165\n",
        "Name: late, dtype: float64\n",
        "ns contains the sample sizes for these groups:\n",
        "\n",
        "freight_cost_group\n",
        "expensive     545\n",
        "reasonable    455\n",
        "Name: late, dtype: int64\n",
        "pandas and numpy have been imported under their usual aliases, and norm is available from scipy.stats."
      ],
      "metadata": {
        "id": "F8u3jrzosSRl"
      }
    },
    {
      "cell_type": "code",
      "source": [
        "p_hats = (\n",
        "    late_shipments.\n",
        "    groupby(\"freight_cost_groups\")[\"late\"].value_counts(normalize=True)\n",
        ").filter(like='Yes', axis=0)\n",
        "\n",
        "p_hats"
      ],
      "metadata": {
        "colab": {
          "base_uri": "https://localhost:8080/"
        },
        "id": "pidzH1YUpy3W",
        "outputId": "dbf271bd-0e97-4b63-e6d8-01c1a103ecad"
      },
      "execution_count": null,
      "outputs": [
        {
          "output_type": "execute_result",
          "data": {
            "text/plain": [
              "freight_cost_groups  late\n",
              "expensive            Yes     0.079096\n",
              "reasonable           Yes     0.035165\n",
              "Name: late, dtype: float64"
            ]
          },
          "metadata": {},
          "execution_count": 24
        }
      ]
    },
    {
      "cell_type": "code",
      "source": [
        "ns = late_shipments.groupby(\"freight_cost_groups\")[\"late\"].count()\n",
        "ns"
      ],
      "metadata": {
        "colab": {
          "base_uri": "https://localhost:8080/"
        },
        "id": "bL3o1BxJssit",
        "outputId": "d78533f9-670c-464f-b9bc-c1bd3b624e8c"
      },
      "execution_count": null,
      "outputs": [
        {
          "output_type": "execute_result",
          "data": {
            "text/plain": [
              "freight_cost_groups\n",
              "expensive     531\n",
              "reasonable    455\n",
              "Name: late, dtype: int64"
            ]
          },
          "metadata": {},
          "execution_count": 25
        }
      ]
    },
    {
      "cell_type": "code",
      "source": [
        "# Calculate the pooled estimate of the population proportion\n",
        "p_hat = (p_hats[\"reasonable\"] * ns[\"reasonable\"] + p_hats[\"expensive\"] * ns[\"expensive\"]) / (ns[\"reasonable\"] + ns[\"expensive\"])\n",
        "\n",
        "print(p_hat)"
      ],
      "metadata": {
        "colab": {
          "base_uri": "https://localhost:8080/"
        },
        "id": "MkugpOgOsvym",
        "outputId": "376dfecb-2f2b-496c-b572-942874958f26"
      },
      "execution_count": null,
      "outputs": [
        {
          "output_type": "stream",
          "name": "stdout",
          "text": [
            "late\n",
            "Yes    0.058824\n",
            "Name: late, dtype: float64\n"
          ]
        }
      ]
    },
    {
      "cell_type": "code",
      "source": [
        "# Calculate the pooled estimate of the population proportion\n",
        "p_hat = (p_hats[\"reasonable\"] * ns[\"reasonable\"] + p_hats[\"expensive\"] * ns[\"expensive\"]) / (ns[\"reasonable\"] + ns[\"expensive\"])\n",
        "\n",
        "# Calculate p_hat one minus p_hat\n",
        "p_hat_times_not_p_hat = p_hat * (1 - p_hat)\n",
        "\n",
        "# Divide this by each of the sample sizes and then sum\n",
        "p_hat_times_not_p_hat_over_ns = p_hat_times_not_p_hat / ns[\"expensive\"] + p_hat_times_not_p_hat / ns[\"reasonable\"]\n",
        "\n",
        "# Calculate the standard error\n",
        "std_error = np.sqrt(p_hat_times_not_p_hat_over_ns)\n",
        "\n",
        "print(std_error)"
      ],
      "metadata": {
        "colab": {
          "base_uri": "https://localhost:8080/"
        },
        "id": "ShO5DXOut5Be",
        "outputId": "8955919a-3190-434c-ff29-ae0b809d2f83"
      },
      "execution_count": null,
      "outputs": [
        {
          "output_type": "stream",
          "name": "stdout",
          "text": [
            "late\n",
            "Yes    0.015031\n",
            "Name: late, dtype: float64\n"
          ]
        }
      ]
    },
    {
      "cell_type": "code",
      "source": [
        "# Calculate the pooled estimate of the population proportion\n",
        "p_hat = (p_hats[\"reasonable\"] * ns[\"reasonable\"] + p_hats[\"expensive\"] * ns[\"expensive\"]) / (ns[\"reasonable\"] + ns[\"expensive\"])\n",
        "\n",
        "# Calculate p_hat one minus p_hat\n",
        "p_hat_times_not_p_hat = p_hat * (1 - p_hat)\n",
        "\n",
        "# Divide this by each of the sample sizes and then sum\n",
        "p_hat_times_not_p_hat_over_ns = p_hat_times_not_p_hat / ns[\"expensive\"] + p_hat_times_not_p_hat / ns[\"reasonable\"]\n",
        "\n",
        "# Calculate the standard error\n",
        "std_error = np.sqrt(p_hat_times_not_p_hat_over_ns)\n",
        "\n",
        "# Calculate the z-score\n",
        "z_score = (p_hats[\"expensive\"] - p_hats[\"reasonable\"]) / std_error\n",
        "print(z_score)"
      ],
      "metadata": {
        "colab": {
          "base_uri": "https://localhost:8080/"
        },
        "id": "gYTftYkmudyB",
        "outputId": "d31b495f-df87-4dc2-ba7a-fe6172f537b5"
      },
      "execution_count": null,
      "outputs": [
        {
          "output_type": "stream",
          "name": "stdout",
          "text": [
            "late\n",
            "Yes    2.922649\n",
            "Name: late, dtype: float64\n"
          ]
        }
      ]
    },
    {
      "cell_type": "code",
      "source": [
        "# Calculate the p-value from the z-score\n",
        "p_value = 1 - norm.cdf(z_score)\n",
        "\n",
        "# Print p_value\n",
        "print(p_value)"
      ],
      "metadata": {
        "colab": {
          "base_uri": "https://localhost:8080/"
        },
        "id": "f6EbQWAdu4g2",
        "outputId": "47dc08ad-9bf2-43f8-ecf4-b0742f888268"
      },
      "execution_count": null,
      "outputs": [
        {
          "output_type": "stream",
          "name": "stdout",
          "text": [
            "[0.00173534]\n"
          ]
        }
      ]
    },
    {
      "cell_type": "markdown",
      "source": [
        "### proportions_ztest() for two samples\n",
        "That took a lot of effort to calculate the p-value, so while it is useful to see how the calculations work, it isn't practical to do in real-world analyses. For daily usage, it's better to use the statsmodels package.\n",
        "\n",
        "Recall the hypotheses.\n",
        "\n",
        "Null Hypothesis: late_expensive - late_resonable =0\n",
        "\n",
        "Alternative Hypothesis: late_expensive - late_resonable >0\n",
        "\n",
        "late_shipments is available, containing the freight_cost_group column. numpy and pandas have been loaded under their standard aliases, and proportions_ztest has been loaded from statsmodels.stats.proportion."
      ],
      "metadata": {
        "id": "E2dGsridvKcq"
      }
    },
    {
      "cell_type": "code",
      "source": [
        "from statsmodels.stats.proportion import proportions_ztest\n",
        "# Count the late column values for each freight_cost_group\n",
        "late_by_freight_cost_group = late_shipments.groupby(\"freight_cost_groups\")['late'].value_counts()\n",
        "print(late_by_freight_cost_group)\n",
        "# Create an array of the \"Yes\" counts for each freight_cost_group\n",
        "success_counts = np.array([45, 16])\n",
        "\n",
        "# Create an array of the total number of rows in each freight_cost_group\n",
        "n = np.array([500 +45, 439+16])\n",
        "\n",
        "# Run a z-test on the two proportions\n",
        "stat, p_value = proportions_ztest(count=success_counts, nobs=n, alternative='larger')\n",
        "\n",
        "\n",
        "# Print the results\n",
        "print(stat, p_value)"
      ],
      "metadata": {
        "colab": {
          "base_uri": "https://localhost:8080/"
        },
        "id": "2BcS5KNnvHrC",
        "outputId": "89258846-ab42-46dc-e8c9-6265e6873649"
      },
      "execution_count": null,
      "outputs": [
        {
          "output_type": "stream",
          "name": "stdout",
          "text": [
            "freight_cost_groups  late\n",
            "expensive            No      489\n",
            "                     Yes      42\n",
            "reasonable           No      439\n",
            "                     Yes      16\n",
            "Name: late, dtype: int64\n",
            "3.1190401865206128 0.0009072060637051224\n"
          ]
        }
      ]
    },
    {
      "cell_type": "markdown",
      "source": [
        "## Chi-square test of independence\n",
        "extend proportion test for more then two groups"
      ],
      "metadata": {
        "id": "d0nb3vNDQ8xu"
      }
    },
    {
      "cell_type": "markdown",
      "source": [
        "### The chi-square distribution\n",
        "Chi-square hypothesis tests rely on the chi-square distribution. Like the t-distribution, it has degrees of freedom and non-centrality parameters.\n",
        "\n",
        "The plots show the PDF and CDF for a chi-square distribution (solid black line), and for comparison show a normal distribution with the same mean and variance (gray dotted line).\n",
        "\n",
        "Which statement about the chi-square distribution is true?\n",
        "\n",
        "A: As you increase the degrees of freedom or the non-centrality, the chi-square distribution PDF and CDF curves get closer to those of a normal distribution."
      ],
      "metadata": {
        "id": "arGws-KHUAcw"
      }
    },
    {
      "cell_type": "markdown",
      "source": [
        "### How many tails for chi-square tests?\n",
        "Unlike pingouin.ttest() and statsmodels.stats.proportion.proportions_ztest(), pingouin.chi2_independence() does not have an alternative argument to specify which tails are considered by the alternative hypothesis.\n",
        "\n",
        "Which tail is almost always considered in chi-square tests?\n",
        "\n",
        "Answer: Right tail"
      ],
      "metadata": {
        "id": "wLus__9dUbkU"
      }
    },
    {
      "cell_type": "markdown",
      "source": [
        "### Performing a chi-square test\n",
        "The chi-square independence test compares proportions of successes of one categorical variable across the categories of another categorical variable.\n",
        "\n",
        "Trade deals often use a form of business shorthand in order to specify the exact details of their contract. These are International Chamber of Commerce (ICC) international commercial terms, or incoterms for short.\n",
        "\n",
        "The late_shipments dataset includes a vendor_inco_term that describes the incoterms that applied to a given shipment. The choices are:\n",
        "\n",
        "EXW: \"Ex works\". The buyer pays for transportation of the goods.\n",
        "CIP: \"Carriage and insurance paid to\". The seller pays for freight and insurance until the goods board a ship.\n",
        "DDP: \"Delivered duty paid\". The seller pays for transportation of the goods until they reach a destination port.\n",
        "FCA: \"Free carrier\". The seller pays for transportation of the goods.\n",
        "Perhaps the incoterms affect whether or not the freight costs are expensive. Test these hypotheses with a significance level of 0.01.\n",
        "\n",
        "Null: vendor_inco_term and freight_cost_group are independent.\n",
        "\n",
        "Alternative: vendor_inco_term and freight_cost_group are associated.\n",
        "\n",
        "late_shipments is available, and the following have been loaded: matplotlib.pyplot as plt, pandas as pd, and pingouin."
      ],
      "metadata": {
        "id": "QslTZgZfUhqh"
      }
    },
    {
      "cell_type": "code",
      "source": [
        "# Proportion of freight_cost_group grouped by vendor_inco_term\n",
        "props = late_shipments.groupby('vendor_inco_term')['freight_cost_groups'].value_counts(normalize=True)\n",
        "print(props)\n",
        "\n",
        "# Convert props to wide format\n",
        "wide_props = props.unstack()\n",
        "\n",
        "# Print wide_props\n",
        "print(wide_props)"
      ],
      "metadata": {
        "colab": {
          "base_uri": "https://localhost:8080/"
        },
        "id": "I7evy3UyvXs9",
        "outputId": "40843ebf-ba5e-41e9-d216-39ef524ea95f"
      },
      "execution_count": null,
      "outputs": [
        {
          "output_type": "stream",
          "name": "stdout",
          "text": [
            "vendor_inco_term  freight_cost_groups\n",
            "CIP               reasonable             0.680000\n",
            "                  expensive              0.320000\n",
            "DDP               expensive              0.550000\n",
            "                  reasonable             0.450000\n",
            "DDU               reasonable             1.000000\n",
            "EXW               expensive              0.583448\n",
            "                  reasonable             0.416552\n",
            "FCA               reasonable             0.663636\n",
            "                  expensive              0.336364\n",
            "Name: freight_cost_groups, dtype: float64\n",
            "freight_cost_groups  expensive  reasonable\n",
            "vendor_inco_term                          \n",
            "CIP                   0.320000    0.680000\n",
            "DDP                   0.550000    0.450000\n",
            "DDU                        NaN    1.000000\n",
            "EXW                   0.583448    0.416552\n",
            "FCA                   0.336364    0.663636\n"
          ]
        }
      ]
    },
    {
      "cell_type": "code",
      "source": [
        "# Proportional stacked bar plot of freight_cost_group vs. vendor_inco_term\n",
        "wide_props.plot(kind=\"bar\", stacked=True)\n",
        "plt.show()"
      ],
      "metadata": {
        "colab": {
          "base_uri": "https://localhost:8080/",
          "height": 468
        },
        "id": "DSngdFYHUcXx",
        "outputId": "dba0c293-4adb-46fd-ba4e-18dca09a4a8a"
      },
      "execution_count": null,
      "outputs": [
        {
          "output_type": "display_data",
          "data": {
            "text/plain": [
              "<Figure size 640x480 with 1 Axes>"
            ],
            "image/png": "[encoded data removed]"
          },
          "metadata": {}
        }
      ]
    },
    {
      "cell_type": "code",
      "source": [
        "# Determine if freight_cost_group and vendor_inco_term are independent\n",
        "expected, observed, stats = pingouin.chi2_independence(data=late_shipments, x='vendor_inco_term', y='freight_cost_groups')\n",
        "\n",
        "# Print results\n",
        "print(stats[stats['test'] == 'pearson'])\n",
        "print(stats)\n",
        "print(\"Reject the null hypthesis and conclude that vendor_inco_term and frieght_cost_group are assoicated\")"
      ],
      "metadata": {
        "colab": {
          "base_uri": "https://localhost:8080/"
        },
        "id": "q1jiaCBAV6Va",
        "outputId": "7c5de5e7-bd91-4044-ee9b-7dcfeb8f5e76"
      },
      "execution_count": null,
      "outputs": [
        {
          "output_type": "stream",
          "name": "stdout",
          "text": [
            "      test  lambda       chi2  dof          pval    cramer     power\n",
            "0  pearson     1.0  34.805072  4.0  5.093922e-07  0.186561  0.999235\n",
            "                 test    lambda       chi2  dof          pval    cramer  \\\n",
            "0             pearson  1.000000  34.805072  4.0  5.093922e-07  0.186561   \n",
            "1        cressie-read  0.666667  34.845134  4.0  4.998337e-07  0.186669   \n",
            "2      log-likelihood  0.000000  35.442911  4.0  3.767119e-07  0.188263   \n",
            "3       freeman-tukey -0.500000        NaN  4.0           NaN       NaN   \n",
            "4  mod-log-likelihood -1.000000        inf  4.0  0.000000e+00       inf   \n",
            "5              neyman -2.000000        NaN  4.0           NaN       NaN   \n",
            "\n",
            "      power  \n",
            "0  0.999235  \n",
            "1  0.999244  \n",
            "2  0.999361  \n",
            "3       NaN  \n",
            "4       NaN  \n",
            "5       NaN  \n",
            "Reject the null hypthesis and conclude that vendor_inco_term and frieght_cost_group are assoicated\n"
          ]
        },
        {
          "output_type": "stream",
          "name": "stderr",
          "text": [
            "/usr/local/lib/python3.10/dist-packages/pingouin/contingency.py:150: UserWarning: Low count on observed frequencies.\n",
            "  warnings.warn(\"Low count on {} frequencies.\".format(name))\n",
            "/usr/local/lib/python3.10/dist-packages/pingouin/contingency.py:150: UserWarning: Low count on expected frequencies.\n",
            "  warnings.warn(\"Low count on {} frequencies.\".format(name))\n",
            "/usr/local/lib/python3.10/dist-packages/scipy/stats/_stats_py.py:7416: RuntimeWarning: divide by zero encountered in power\n",
            "  terms = f_obs * ((f_obs / f_exp)**lambda_ - 1)\n",
            "/usr/local/lib/python3.10/dist-packages/scipy/stats/_stats_py.py:7416: RuntimeWarning: invalid value encountered in multiply\n",
            "  terms = f_obs * ((f_obs / f_exp)**lambda_ - 1)\n",
            "/usr/local/lib/python3.10/dist-packages/scipy/stats/_stats_py.py:7413: RuntimeWarning: divide by zero encountered in true_divide\n",
            "  terms = 2.0 * special.xlogy(f_exp, f_exp / f_obs)\n"
          ]
        }
      ]
    },
    {
      "cell_type": "markdown",
      "source": [
        "## Chi-square goodness of fit tests\n"
      ],
      "metadata": {
        "id": "r-aEvfFWWoyu"
      }
    },
    {
      "cell_type": "markdown",
      "source": [
        "### Visualizing goodness of fit\n",
        "The chi-square goodness of fit test compares proportions of each level of a categorical variable to hypothesized values. Before running such a test, it can be helpful to visually compare the distribution in the sample to the hypothesized distribution.\n",
        "\n",
        "Recall the vendor incoterms in the late_shipments dataset. You hypothesize that the four values occur with these frequencies in the population of shipments.\n",
        "\n",
        "CIP: 0.05\n",
        "DDP: 0.1\n",
        "EXW: 0.75\n",
        "FCA: 0.1\n",
        "These frequencies are stored in the hypothesized DataFrame.\n",
        "\n",
        "The incoterm_counts DataFrame stores the .value_counts() of the vendor_inco_term column.\n",
        "\n",
        "late_shipments is available; pandas and matplotlib.pyplot are loaded with their standard aliases."
      ],
      "metadata": {
        "id": "bstqclYiYVwL"
      }
    },
    {
      "cell_type": "code",
      "source": [
        "hypothesized = pd.DataFrame ({'vendor_inco_term': ['CIP', 'DDP', 'EXW', 'FCA'], 'prop': [0.05, 0.10, 0.75, 0.10]})\n",
        "hypothesized"
      ],
      "metadata": {
        "colab": {
          "base_uri": "https://localhost:8080/",
          "height": 175
        },
        "id": "06dX8c_PYlbZ",
        "outputId": "2c56d5f8-743f-414b-8a60-c6400439d1a5"
      },
      "execution_count": null,
      "outputs": [
        {
          "output_type": "execute_result",
          "data": {
            "text/plain": [
              "  vendor_inco_term  prop\n",
              "0              CIP  0.05\n",
              "1              DDP  0.10\n",
              "2              EXW  0.75\n",
              "3              FCA  0.10"
            ],
            "text/html": [
              "\n",
              "\n",
              "  <div id=\"df-4581b631-5b18-488f-8565-800c4f65e6f0\">\n",
              "    <div class=\"colab-df-container\">\n",
              "      <div>\n",
              "<style scoped>\n",
              "    .dataframe tbody tr th:only-of-type {\n",
              "        vertical-align: middle;\n",
              "    }\n",
              "\n",
              "    .dataframe tbody tr th {\n",
              "        vertical-align: top;\n",
              "    }\n",
              "\n",
              "    .dataframe thead th {\n",
              "        text-align: right;\n",
              "    }\n",
              "</style>\n",
              "<table border=\"1\" class=\"dataframe\">\n",
              "  <thead>\n",
              "    <tr style=\"text-align: right;\">\n",
              "      <th></th>\n",
              "      <th>vendor_inco_term</th>\n",
              "      <th>prop</th>\n",
              "    </tr>\n",
              "  </thead>\n",
              "  <tbody>\n",
              "    <tr>\n",
              "      <th>0</th>\n",
              "      <td>CIP</td>\n",
              "      <td>0.05</td>\n",
              "    </tr>\n",
              "    <tr>\n",
              "      <th>1</th>\n",
              "      <td>DDP</td>\n",
              "      <td>0.10</td>\n",
              "    </tr>\n",
              "    <tr>\n",
              "      <th>2</th>\n",
              "      <td>EXW</td>\n",
              "      <td>0.75</td>\n",
              "    </tr>\n",
              "    <tr>\n",
              "      <th>3</th>\n",
              "      <td>FCA</td>\n",
              "      <td>0.10</td>\n",
              "    </tr>\n",
              "  </tbody>\n",
              "</table>\n",
              "</div>\n",
              "      <button class=\"colab-df-convert\" onclick=\"convertToInteractive('df-4581b631-5b18-488f-8565-800c4f65e6f0')\"\n",
              "              title=\"Convert this dataframe to an interactive table.\"\n",
              "              style=\"display:none;\">\n",
              "\n",
              "  <svg xmlns=\"http://www.w3.org/2000/svg\" height=\"24px\"viewBox=\"0 0 24 24\"\n",
              "       width=\"24px\">\n",
              "    <path d=\"M0 0h24v24H0V0z\" fill=\"none\"/>\n",
              "    <path d=\"M18.56 5.44l.94 2.06.94-2.06 2.06-.94-2.06-.94-.94-2.06-.94 2.06-2.06.94zm-11 1L8.5 8.5l.94-2.06 2.06-.94-2.06-.94L8.5 2.5l-.94 2.06-2.06.94zm10 10l.94 2.06.94-2.06 2.06-.94-2.06-.94-.94-2.06-.94 2.06-2.06.94z\"/><path d=\"M17.41 7.96l-1.37-1.37c-.4-.4-.92-.59-1.43-.59-.52 0-1.04.2-1.43.59L10.3 9.45l-7.72 7.72c-.78.78-.78 2.05 0 2.83L4 21.41c.39.39.9.59 1.41.59.51 0 1.02-.2 1.41-.59l7.78-7.78 2.81-2.81c.8-.78.8-2.07 0-2.86zM5.41 20L4 18.59l7.72-7.72 1.47 1.35L5.41 20z\"/>\n",
              "  </svg>\n",
              "      </button>\n",
              "\n",
              "\n",
              "\n",
              "    <div id=\"df-6fbd41c2-e821-4a33-aa4e-b893ccd7d99e\">\n",
              "      <button class=\"colab-df-quickchart\" onclick=\"quickchart('df-6fbd41c2-e821-4a33-aa4e-b893ccd7d99e')\"\n",
              "              title=\"Suggest charts.\"\n",
              "              style=\"display:none;\">\n",
              "\n",
              "<svg xmlns=\"http://www.w3.org/2000/svg\" height=\"24px\"viewBox=\"0 0 24 24\"\n",
              "     width=\"24px\">\n",
              "    <g>\n",
              "        <path d=\"M19 3H5c-1.1 0-2 .9-2 2v14c0 1.1.9 2 2 2h14c1.1 0 2-.9 2-2V5c0-1.1-.9-2-2-2zM9 17H7v-7h2v7zm4 0h-2V7h2v10zm4 0h-2v-4h2v4z\"/>\n",
              "    </g>\n",
              "</svg>\n",
              "      </button>\n",
              "    </div>\n",
              "\n",
              "<style>\n",
              "  .colab-df-quickchart {\n",
              "    background-color: #E8F0FE;\n",
              "    border: none;\n",
              "    border-radius: 50%;\n",
              "    cursor: pointer;\n",
              "    display: none;\n",
              "    fill: #1967D2;\n",
              "    height: 32px;\n",
              "    padding: 0 0 0 0;\n",
              "    width: 32px;\n",
              "  }\n",
              "\n",
              "  .colab-df-quickchart:hover {\n",
              "    background-color: #E2EBFA;\n",
              "    box-shadow: 0px 1px 2px rgba(60, 64, 67, 0.3), 0px 1px 3px 1px rgba(60, 64, 67, 0.15);\n",
              "    fill: #174EA6;\n",
              "  }\n",
              "\n",
              "  [theme=dark] .colab-df-quickchart {\n",
              "    background-color: #3B4455;\n",
              "    fill: #D2E3FC;\n",
              "  }\n",
              "\n",
              "  [theme=dark] .colab-df-quickchart:hover {\n",
              "    background-color: #434B5C;\n",
              "    box-shadow: 0px 1px 3px 1px rgba(0, 0, 0, 0.15);\n",
              "    filter: drop-shadow(0px 1px 2px rgba(0, 0, 0, 0.3));\n",
              "    fill: #FFFFFF;\n",
              "  }\n",
              "</style>\n",
              "\n",
              "    <script>\n",
              "      async function quickchart(key) {\n",
              "        const containerElement = document.querySelector('#' + key);\n",
              "        const charts = await google.colab.kernel.invokeFunction(\n",
              "            'suggestCharts', [key], {});\n",
              "      }\n",
              "    </script>\n",
              "\n",
              "      <script>\n",
              "\n",
              "function displayQuickchartButton(domScope) {\n",
              "  let quickchartButtonEl =\n",
              "    domScope.querySelector('#df-6fbd41c2-e821-4a33-aa4e-b893ccd7d99e button.colab-df-quickchart');\n",
              "  quickchartButtonEl.style.display =\n",
              "    google.colab.kernel.accessAllowed ? 'block' : 'none';\n",
              "}\n",
              "\n",
              "        displayQuickchartButton(document);\n",
              "      </script>\n",
              "      <style>\n",
              "    .colab-df-container {\n",
              "      display:flex;\n",
              "      flex-wrap:wrap;\n",
              "      gap: 12px;\n",
              "    }\n",
              "\n",
              "    .colab-df-convert {\n",
              "      background-color: #E8F0FE;\n",
              "      border: none;\n",
              "      border-radius: 50%;\n",
              "      cursor: pointer;\n",
              "      display: none;\n",
              "      fill: #1967D2;\n",
              "      height: 32px;\n",
              "      padding: 0 0 0 0;\n",
              "      width: 32px;\n",
              "    }\n",
              "\n",
              "    .colab-df-convert:hover {\n",
              "      background-color: #E2EBFA;\n",
              "      box-shadow: 0px 1px 2px rgba(60, 64, 67, 0.3), 0px 1px 3px 1px rgba(60, 64, 67, 0.15);\n",
              "      fill: #174EA6;\n",
              "    }\n",
              "\n",
              "    [theme=dark] .colab-df-convert {\n",
              "      background-color: #3B4455;\n",
              "      fill: #D2E3FC;\n",
              "    }\n",
              "\n",
              "    [theme=dark] .colab-df-convert:hover {\n",
              "      background-color: #434B5C;\n",
              "      box-shadow: 0px 1px 3px 1px rgba(0, 0, 0, 0.15);\n",
              "      filter: drop-shadow(0px 1px 2px rgba(0, 0, 0, 0.3));\n",
              "      fill: #FFFFFF;\n",
              "    }\n",
              "  </style>\n",
              "\n",
              "      <script>\n",
              "        const buttonEl =\n",
              "          document.querySelector('#df-4581b631-5b18-488f-8565-800c4f65e6f0 button.colab-df-convert');\n",
              "        buttonEl.style.display =\n",
              "          google.colab.kernel.accessAllowed ? 'block' : 'none';\n",
              "\n",
              "        async function convertToInteractive(key) {\n",
              "          const element = document.querySelector('#df-4581b631-5b18-488f-8565-800c4f65e6f0');\n",
              "          const dataTable =\n",
              "            await google.colab.kernel.invokeFunction('convertToInteractive',\n",
              "                                                     [key], {});\n",
              "          if (!dataTable) return;\n",
              "\n",
              "          const docLinkHtml = 'Like what you see? Visit the ' +\n",
              "            '<a target=\"_blank\" href=https://colab.research.google.com/notebooks/data_table.ipynb>data table notebook</a>'\n",
              "            + ' to learn more about interactive tables.';\n",
              "          element.innerHTML = '';\n",
              "          dataTable['output_type'] = 'display_data';\n",
              "          await google.colab.output.renderOutput(dataTable, element);\n",
              "          const docLink = document.createElement('div');\n",
              "          docLink.innerHTML = docLinkHtml;\n",
              "          element.appendChild(docLink);\n",
              "        }\n",
              "      </script>\n",
              "    </div>\n",
              "  </div>\n"
            ]
          },
          "metadata": {},
          "execution_count": 42
        }
      ]
    },
    {
      "cell_type": "code",
      "source": [
        "incoterm_counts = (\n",
        "    late_shipments[\"vendor_inco_term\"]\n",
        "    .value_counts()\n",
        "    .rename_axis(\"vendor_inco_term\")\n",
        "    .reset_index(name=\"n\")\n",
        "    .sort_values(\"vendor_inco_term\")\n",
        ")\n",
        "\n",
        "incoterm_counts\n",
        "incoterm_counts.drop([4], inplace=True)"
      ],
      "metadata": {
        "id": "amW-irlhY7Sx"
      },
      "execution_count": null,
      "outputs": []
    },
    {
      "cell_type": "code",
      "source": [
        "# Find the number of rows in late_shipments\n",
        "n_total = len(late_shipments)\n",
        "\n",
        "# Create n column that is prop column * n_total\n",
        "hypothesized[\"n\"] = hypothesized[\"prop\"] * n_total\n",
        "\n",
        "# Plot a red bar graph of n vs. vendor_inco_term for incoterm_counts\n",
        "plt.bar(incoterm_counts['vendor_inco_term'], incoterm_counts['n'], color=\"red\", label=\"Observed\")\n",
        "\n",
        "# Add a blue bar plot for the hypothesized counts\n",
        "plt.bar(hypothesized.vendor_inco_term, hypothesized.n, alpha=0.5,color='blue',label=\"Hypothesized\")\n",
        "plt.legend()\n",
        "plt.show()\n",
        "\n",
        "# Head on over to the next exercise to test if these differences are statistically significant."
      ],
      "metadata": {
        "colab": {
          "base_uri": "https://localhost:8080/",
          "height": 430
        },
        "id": "xYjLo0uKY7WE",
        "outputId": "2995dd88-a0a4-4dae-e4ab-c35c13e43ff5"
      },
      "execution_count": null,
      "outputs": [
        {
          "output_type": "display_data",
          "data": {
            "text/plain": [
              "<Figure size 640x480 with 1 Axes>"
            ],
            "image/png": "[encoded data removed]"
          },
          "metadata": {}
        }
      ]
    },
    {
      "cell_type": "markdown",
      "source": [
        "## Performing a goodness of fit test\n",
        "The bar plot of vendor_inco_term suggests that the distribution across the four categories was quite close to the hypothesized distribution. You'll need to perform a chi-square goodness of fit test to see whether the differences are statistically significant.\n",
        "\n",
        "Recall the hypotheses for this type of test:\n",
        "\n",
        "Null Hypothesis: The sample matches with the hypothesized distribution.\n",
        "\n",
        "Alternative Hypothesis: The sample does not match with the hypothesized distribution.\n",
        "\n",
        "To decide which hypothesis to choose, we'll set a significance level of 0.1.\n",
        "\n",
        "late_shipments, incoterm_counts, and hypothesized from the last exercise are available. chisquare from scipy.stats has been loaded."
      ],
      "metadata": {
        "id": "kHklgKNgYVyq"
      }
    },
    {
      "cell_type": "code",
      "source": [
        "from scipy.stats import chisquare\n",
        "# Perform a goodness of fit test on the incoterm counts n\n",
        "gof_test = chisquare(f_obs=incoterm_counts.n, f_exp= hypothesized.n)\n",
        "\n",
        "\n",
        "# Print gof_test results\n",
        "print(gof_test)"
      ],
      "metadata": {
        "colab": {
          "base_uri": "https://localhost:8080/",
          "height": 425
        },
        "id": "o5886Q_pWQwN",
        "outputId": "20a9f1de-b5b3-4d34-c93c-c461bbff0198"
      },
      "execution_count": null,
      "outputs": [
        {
          "output_type": "error",
          "ename": "ValueError",
          "evalue": "ignored",
          "traceback": [
            "\u001b[0;31m---------------------------------------------------------------------------\u001b[0m",
            "\u001b[0;31mValueError\u001b[0m                                Traceback (most recent call last)",
            "\u001b[0;32m<ipython-input-55-518e01d29ac7>\u001b[0m in \u001b[0;36m<cell line: 3>\u001b[0;34m()\u001b[0m\n\u001b[1;32m      1\u001b[0m \u001b[0;32mfrom\u001b[0m \u001b[0mscipy\u001b[0m\u001b[0;34m.\u001b[0m\u001b[0mstats\u001b[0m \u001b[0;32mimport\u001b[0m \u001b[0mchisquare\u001b[0m\u001b[0;34m\u001b[0m\u001b[0;34m\u001b[0m\u001b[0m\n\u001b[1;32m      2\u001b[0m \u001b[0;31m# Perform a goodness of fit test on the incoterm counts n\u001b[0m\u001b[0;34m\u001b[0m\u001b[0;34m\u001b[0m\u001b[0m\n\u001b[0;32m----> 3\u001b[0;31m \u001b[0mgof_test\u001b[0m \u001b[0;34m=\u001b[0m \u001b[0mchisquare\u001b[0m\u001b[0;34m(\u001b[0m\u001b[0mf_obs\u001b[0m\u001b[0;34m=\u001b[0m\u001b[0mincoterm_counts\u001b[0m\u001b[0;34m.\u001b[0m\u001b[0mn\u001b[0m\u001b[0;34m,\u001b[0m \u001b[0mf_exp\u001b[0m\u001b[0;34m=\u001b[0m \u001b[0mhypothesized\u001b[0m\u001b[0;34m.\u001b[0m\u001b[0mn\u001b[0m\u001b[0;34m)\u001b[0m\u001b[0;34m\u001b[0m\u001b[0;34m\u001b[0m\u001b[0m\n\u001b[0m\u001b[1;32m      4\u001b[0m \u001b[0;34m\u001b[0m\u001b[0m\n\u001b[1;32m      5\u001b[0m \u001b[0;34m\u001b[0m\u001b[0m\n",
            "\u001b[0;32m/usr/local/lib/python3.10/dist-packages/scipy/stats/_stats_py.py\u001b[0m in \u001b[0;36mchisquare\u001b[0;34m(f_obs, f_exp, ddof, axis)\u001b[0m\n\u001b[1;32m   7551\u001b[0m \u001b[0;34m\u001b[0m\u001b[0m\n\u001b[1;32m   7552\u001b[0m     \"\"\"\n\u001b[0;32m-> 7553\u001b[0;31m     return power_divergence(f_obs, f_exp=f_exp, ddof=ddof, axis=axis,\n\u001b[0m\u001b[1;32m   7554\u001b[0m                             lambda_=\"pearson\")\n\u001b[1;32m   7555\u001b[0m \u001b[0;34m\u001b[0m\u001b[0m\n",
            "\u001b[0;32m/usr/local/lib/python3.10/dist-packages/scipy/stats/_stats_py.py\u001b[0m in \u001b[0;36mpower_divergence\u001b[0;34m(f_obs, f_exp, ddof, axis, lambda_)\u001b[0m\n\u001b[1;32m   7392\u001b[0m                    \u001b[0;34mf\"of {rtol}, but the percent differences are:\\n\"\u001b[0m\u001b[0;34m\u001b[0m\u001b[0;34m\u001b[0m\u001b[0m\n\u001b[1;32m   7393\u001b[0m                    f\"{relative_diff}\")\n\u001b[0;32m-> 7394\u001b[0;31m             \u001b[0;32mraise\u001b[0m \u001b[0mValueError\u001b[0m\u001b[0;34m(\u001b[0m\u001b[0mmsg\u001b[0m\u001b[0;34m)\u001b[0m\u001b[0;34m\u001b[0m\u001b[0;34m\u001b[0m\u001b[0m\n\u001b[0m\u001b[1;32m   7395\u001b[0m \u001b[0;34m\u001b[0m\u001b[0m\n\u001b[1;32m   7396\u001b[0m     \u001b[0;32melse\u001b[0m\u001b[0;34m:\u001b[0m\u001b[0;34m\u001b[0m\u001b[0;34m\u001b[0m\u001b[0m\n",
            "\u001b[0;31mValueError\u001b[0m: For each axis slice, the sum of the observed frequencies must agree with the sum of the expected frequencies to a relative tolerance of 1e-08, but the percent differences are:\n0.001001001001001001"
          ]
        }
      ]
    },
    {
      "cell_type": "markdown",
      "source": [
        "# CHAPTER 4 Non-Parametric Tests\n",
        "Finally, it’s time to learn about the assumptions made by parametric hypothesis tests, and see how non-parametric tests can be used when those assumptions aren't met.\n",
        "\n",
        "Sample sizes: ttests >30 for one sample, two samples, paired samples, ANOVA\n",
        "\n",
        ">10 proportion test\n",
        ">5 Chi-square"
      ],
      "metadata": {
        "id": "2IW3LYoEiVfk"
      }
    },
    {
      "cell_type": "markdown",
      "source": [
        "### Common assumptions of hypothesis tests\n",
        "Hypothesis tests make assumptions about the dataset that they are testing, and the conclusions you draw from the test results are only valid if those assumptions hold. While some assumptions differ between types of test, others are common to all hypothesis tests.\n",
        "\n",
        "Which of the following statements is a common assumption of hypothesis tests?\n",
        "\n",
        "Answer: All hypothesis tests assume that the data are collected at random from the population, that each row is independent of the others, and that the sample size is \"big enough\"."
      ],
      "metadata": {
        "id": "Jt2AFgbCj3Kq"
      }
    },
    {
      "cell_type": "markdown",
      "source": [
        "### Testing sample size\n",
        "In order to conduct a hypothesis test and be sure that the result is fair, a sample must meet three requirements: it is a random sample of the population, the observations are independent, and there are enough observations. Of these, only the last condition is easily testable with code.\n",
        "\n",
        "The minimum sample size depends on the type of hypothesis tests you want to perform. You'll now test some scenarios on the late_shipments dataset.\n",
        "\n",
        "Note that the .all() method from pandas can be used to check if all elements are true. For example, given a DataFrame df with numeric entries, you check to see if all its elements are less than 5, using (df < 5).all().\n",
        "\n",
        "late_shipments is available, and pandas is loaded as pd."
      ],
      "metadata": {
        "id": "IUW79IGVkO9h"
      }
    },
    {
      "cell_type": "code",
      "source": [
        "# Count the freight_cost_group values\n",
        "counts = late_shipments['freight_cost_groups'].value_counts()\n",
        "\n",
        "# Print the result\n",
        "print(counts)\n",
        "\n",
        "# Inspect whether the counts are big enough\n",
        "print((counts >= 30).all())"
      ],
      "metadata": {
        "colab": {
          "base_uri": "https://localhost:8080/"
        },
        "id": "ecV-VAjIbFfP",
        "outputId": "71e16615-1c86-4ccd-bc4d-815fa28b0b35"
      },
      "execution_count": null,
      "outputs": [
        {
          "output_type": "stream",
          "name": "stdout",
          "text": [
            "expensive     531\n",
            "reasonable    455\n",
            "Name: freight_cost_groups, dtype: int64\n",
            "True\n"
          ]
        }
      ]
    },
    {
      "cell_type": "code",
      "source": [
        "# Count the late values\n",
        "counts = late_shipments.late.value_counts()\n",
        "\n",
        "# Print the result\n",
        "print(counts)\n",
        "\n",
        "# Inspect whether the counts are big enough\n",
        "print((counts >= 10).all())"
      ],
      "metadata": {
        "colab": {
          "base_uri": "https://localhost:8080/"
        },
        "id": "u2IuSvnokkqA",
        "outputId": "a67ffbbe-23be-4225-ccd1-80aab6485977"
      },
      "execution_count": null,
      "outputs": [
        {
          "output_type": "stream",
          "name": "stdout",
          "text": [
            "No     939\n",
            "Yes     61\n",
            "Name: late, dtype: int64\n",
            "True\n"
          ]
        }
      ]
    },
    {
      "cell_type": "code",
      "source": [
        "# Count the values of freight_cost_group grouped by vendor_inco_term\n",
        "counts = late_shipments.groupby('vendor_inco_term')['freight_cost_groups'].value_counts()\n",
        "\n",
        "# Print the result\n",
        "print(counts)\n",
        "\n",
        "# Inspect whether the counts are big enough\n",
        "print((counts >= 5).all())"
      ],
      "metadata": {
        "colab": {
          "base_uri": "https://localhost:8080/"
        },
        "id": "q36YBOqukys3",
        "outputId": "be9040a8-17d7-4065-a1d9-9b5d4ef23b45"
      },
      "execution_count": null,
      "outputs": [
        {
          "output_type": "stream",
          "name": "stdout",
          "text": [
            "vendor_inco_term  freight_cost_groups\n",
            "CIP               reasonable              34\n",
            "                  expensive               16\n",
            "DDP               expensive               55\n",
            "                  reasonable              45\n",
            "DDU               reasonable               1\n",
            "EXW               expensive              423\n",
            "                  reasonable             302\n",
            "FCA               reasonable              73\n",
            "                  expensive               37\n",
            "Name: freight_cost_groups, dtype: int64\n",
            "False\n"
          ]
        }
      ]
    },
    {
      "cell_type": "code",
      "source": [
        "# Count the shipment_mode values\n",
        "counts = late_shipments.shipment_mode.value_counts()\n",
        "\n",
        "# Print the result\n",
        "print(counts)\n",
        "\n",
        "# Inspect whether the counts are big enough\n",
        "print((counts >= 30).all())\n",
        "\n",
        "#While randomness and independence of observations can't easily be tested programmatically,\n",
        "# you can test that your sample sizes are big enough to make a hypothesis test appropriate."
      ],
      "metadata": {
        "colab": {
          "base_uri": "https://localhost:8080/"
        },
        "id": "JHEkQVjslCCb",
        "outputId": "f7d5c1a5-a248-468d-aa62-9e51d07fdb49"
      },
      "execution_count": null,
      "outputs": [
        {
          "output_type": "stream",
          "name": "stdout",
          "text": [
            "Air            906\n",
            "Ocean           88\n",
            "Air Charter      6\n",
            "Name: shipment_mode, dtype: int64\n",
            "False\n"
          ]
        }
      ]
    },
    {
      "cell_type": "markdown",
      "source": [
        "## Non-parametric tests\n",
        "\n",
        "z-test, t-test, ANOVA are all parametric test, assume normal distribution\n",
        "\n",
        "Non-parametric test avoid parametric assumptions and conditions, many test use ranks of data"
      ],
      "metadata": {
        "id": "oIUDYBjil4px"
      }
    },
    {
      "cell_type": "markdown",
      "source": [
        "### Which parametric test?\n",
        "Which test is a parametric equivalent to the Wilcoxon signed-rank test?\n",
        "\n",
        "Answer: Paired t-test"
      ],
      "metadata": {
        "id": "TSKAFtAfnGLS"
      }
    },
    {
      "cell_type": "markdown",
      "source": [
        "### Wilcoxon signed-rank test\n",
        "You'll explore the difference between the proportion of county-level votes for the Democratic candidate in 2012 and 2016 to identify if the difference is significant.\n",
        "\n",
        "sample_dem_data is available, and has columns dem_percent_12 and dem_percent_16 in addition to state and county names. The following packages have also been loaded: pingouin and pandas as pd."
      ],
      "metadata": {
        "id": "KGqB9gsDnLZA"
      }
    },
    {
      "cell_type": "code",
      "source": [
        "# Conduct a paired t-test on dem_percent_12 and dem_percent_16\n",
        "paired_test_results = pingouin.ttest(x=sample_dem_data.dem_percent_12, y=sample_dem_data.dem_percent_16, paired=True, alternative='two-sided')\n",
        "\n",
        "\n",
        "\n",
        "\n",
        "# Print paired t-test results\n",
        "print(paired_test_results)"
      ],
      "metadata": {
        "colab": {
          "base_uri": "https://localhost:8080/"
        },
        "id": "C1VaHBn5lpuo",
        "outputId": "5e688adf-703b-453e-e700-76a383751d2b"
      },
      "execution_count": null,
      "outputs": [
        {
          "output_type": "stream",
          "name": "stdout",
          "text": [
            "                T  dof alternative          p-val         CI95%   cohen-d  \\\n",
            "T-test  30.298384  499   two-sided  3.600634e-115  [6.39, 7.27]  0.454202   \n",
            "\n",
            "              BF10  power  \n",
            "T-test  2.246e+111    1.0  \n"
          ]
        }
      ]
    },
    {
      "cell_type": "code",
      "source": [
        "# Conduct a Wilcoxon test on dem_percent_12 and dem_percent_16\n",
        "wilcoxon_test_results = pingouin.wilcoxon(x=sample_dem_data.dem_percent_12, y=sample_dem_data.dem_percent_16, alternative='two-sided')\n",
        "\n",
        "\n",
        "\n",
        "# Print Wilcoxon test results\n",
        "print(wilcoxon_test_results)\n",
        "\n",
        "print('Given the large sample size (500), you obtained similar results here between the parametric t-test and non-parametric Wilcoxon test with a very small p-value.')"
      ],
      "metadata": {
        "colab": {
          "base_uri": "https://localhost:8080/"
        },
        "id": "N5sFXg9UnpxR",
        "outputId": "d66746cf-e7b6-4613-f9e6-303f5c4607c3"
      },
      "execution_count": null,
      "outputs": [
        {
          "output_type": "stream",
          "name": "stdout",
          "text": [
            "           W-val alternative         p-val       RBC      CLES\n",
            "Wilcoxon  2401.0   two-sided  1.780396e-77  0.961661  0.644816\n",
            "Given the large sample size (500), you obtained similar results here between the parametric t-test and non-parametric Wilcoxon test with a very small p-value.\n"
          ]
        }
      ]
    },
    {
      "cell_type": "markdown",
      "source": [
        "## Non-parametric ANOVA and unpaired t-tests\n"
      ],
      "metadata": {
        "id": "FYeGUQOYn_7q"
      }
    },
    {
      "cell_type": "markdown",
      "source": [
        "### Wilcoxon-Mann-Whitney\n",
        "Another class of non-parametric hypothesis tests are called rank sum tests. Ranks are the positions of numeric values from smallest to largest. Think of them as positions in running events: whoever has the fastest (smallest) time is rank 1, second fastest is rank 2, and so on.\n",
        "\n",
        "By calculating on the ranks of data instead of the actual values, you can avoid making assumptions about the distribution of the test statistic. It's more robust in the same way that a median is more robust than a mean.\n",
        "\n",
        "One common rank-based test is the Wilcoxon-Mann-Whitney test, which is like a non-parametric t-test.\n",
        "\n",
        "late_shipments is available, and the following packages have been loaded: pingouin and pandas as pd."
      ],
      "metadata": {
        "id": "nPuBp8Q3o2Nc"
      }
    },
    {
      "cell_type": "code",
      "source": [
        "# Select the weight_kilograms and late columns\n",
        "weight_vs_late = late_shipments[['weight_kilograms', 'late']]\n",
        "\n",
        "# Convert weight_vs_late into wide format\n",
        "weight_vs_late_wide = weight_vs_late.pivot(columns='late',\n",
        "                                           values='weight_kilograms')\n",
        "\n",
        "\n",
        "# Run a two-sided Wilcoxon-Mann-Whitney test on weight_kilograms vs. late\n",
        "wmw_test = pingouin.mwu(x=weight_vs_late_wide['Yes'], y=weight_vs_late_wide['No'], alternative='two-sided')\n",
        "\n",
        "\n",
        "\n",
        "# Print the test results\n",
        "print(wmw_test)\n",
        "\n",
        "#. The small p-value here leads us to suspect that a difference does exist in the weight of the shipment and whether or not it was late\n",
        "\n",
        "#The Wilcoxon-Mann-Whitney test is useful when you cannot satisfy the assumptions for a parametric test comparing two means, like the t-test."
      ],
      "metadata": {
        "colab": {
          "base_uri": "https://localhost:8080/"
        },
        "id": "d7q-YbWJn9Ak",
        "outputId": "1a66c073-6bc3-4d0c-a25d-b8393cf39b8c"
      },
      "execution_count": null,
      "outputs": [
        {
          "output_type": "stream",
          "name": "stdout",
          "text": [
            "       U-val alternative     p-val       RBC      CLES\n",
            "MWU  38145.0   two-sided  0.000014 -0.331902  0.665951\n"
          ]
        }
      ]
    },
    {
      "cell_type": "markdown",
      "source": [
        "# Kruskal-Wallis\n",
        "Recall that the Kruskal-Wallis test is a non-parametric version of an ANOVA test, comparing the means across multiple groups.\n",
        "\n",
        "late_shipments is available, and the following packages have been loaded: pingouin and pandas as pd."
      ],
      "metadata": {
        "id": "QAAcXd19pzC-"
      }
    },
    {
      "cell_type": "code",
      "source": [
        "# Run a Kruskal-Wallis test on weight_kilograms vs. shipment_mode\n",
        "kw_test = pingouin.kruskal(data=late_shipments,\n",
        "                           dv='weight_kilograms',\n",
        "                           between='shipment_mode')\n",
        "\n",
        "# Print the results\n",
        "print(kw_test)\n",
        "\n",
        "#Th Kruskal-Wallis test is comparable to an ANOVA, which tests for a difference in means across multiple groups."
      ],
      "metadata": {
        "colab": {
          "base_uri": "https://localhost:8080/"
        },
        "id": "C0qQhL1KpqKm",
        "outputId": "a8e1254f-1857-44d2-b4b5-c8fc3eb41b99"
      },
      "execution_count": null,
      "outputs": [
        {
          "output_type": "stream",
          "name": "stdout",
          "text": [
            "                Source  ddof1           H         p-unc\n",
            "Kruskal  shipment_mode      2  125.096618  6.848799e-28\n"
          ]
        }
      ]
    },
    {
      "cell_type": "code",
      "source": [],
      "metadata": {
        "id": "VYTz0msrqKnV"
      },
      "execution_count": null,
      "outputs": []
    }
  ]
}